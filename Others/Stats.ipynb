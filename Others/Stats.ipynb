{
  "nbformat": 4,
  "nbformat_minor": 0,
  "metadata": {
    "colab": {
      "name": "Stats",
      "provenance": [],
      "collapsed_sections": []
    },
    "kernelspec": {
      "name": "python3",
      "display_name": "Python 3"
    }
  },
  "cells": [
    {
      "cell_type": "code",
      "metadata": {
        "id": "YVtTWyBZhZMi"
      },
      "source": [
        "import statistics\n",
        "import scipy\n",
        "import matplotlib.pyplot as plt\n",
        "import numpy as np\n",
        "\n"
      ],
      "execution_count": null,
      "outputs": []
    },
    {
      "cell_type": "code",
      "metadata": {
        "id": "4UcnOVI-hibA"
      },
      "source": [
        "m=[4, 8, 6, 5, 3, 2, 8, 9, 2, 5,9,6]"
      ],
      "execution_count": null,
      "outputs": []
    },
    {
      "cell_type": "code",
      "metadata": {
        "colab": {
          "base_uri": "https://localhost:8080/"
        },
        "id": "z88bn3cs00W7",
        "outputId": "59cf1763-7d45-4d71-86e9-4baaf1474abd"
      },
      "source": [
        "scipy.stats.kurtosis(m)"
      ],
      "execution_count": null,
      "outputs": [
        {
          "output_type": "execute_result",
          "data": {
            "text/plain": [
              "-1.278150679162277"
            ]
          },
          "metadata": {
            "tags": []
          },
          "execution_count": 7
        }
      ]
    },
    {
      "cell_type": "code",
      "metadata": {
        "id": "UHnFJdq01Svx"
      },
      "source": [
        ""
      ],
      "execution_count": null,
      "outputs": []
    },
    {
      "cell_type": "code",
      "metadata": {
        "colab": {
          "base_uri": "https://localhost:8080/",
          "height": 316
        },
        "id": "jBMmVuUS1SxY",
        "outputId": "7717c7a6-7045-42d0-b4d8-cdab0d9a875a"
      },
      "source": [
        "plt.hist(m)"
      ],
      "execution_count": null,
      "outputs": [
        {
          "output_type": "execute_result",
          "data": {
            "text/plain": [
              "(array([2., 1., 1., 0., 2., 2., 0., 0., 2., 2.]),\n",
              " array([2. , 2.7, 3.4, 4.1, 4.8, 5.5, 6.2, 6.9, 7.6, 8.3, 9. ]),\n",
              " <a list of 10 Patch objects>)"
            ]
          },
          "metadata": {
            "tags": []
          },
          "execution_count": 10
        },
        {
          "output_type": "display_data",
          "data": {
            "image/png": "[encoded data removed]",
            "text/plain": [
              "<Figure size 432x288 with 1 Axes>"
            ]
          },
          "metadata": {
            "tags": [],
            "needs_background": "light"
          }
        }
      ]
    },
    {
      "cell_type": "code",
      "metadata": {
        "colab": {
          "base_uri": "https://localhost:8080/"
        },
        "id": "-wq_vpqDhqlZ",
        "outputId": "95c446d4-1593-4e34-bc03-0455634ffb75"
      },
      "source": [
        "statistics.stdev([1,2,3,4,5,6])"
      ],
      "execution_count": null,
      "outputs": [
        {
          "output_type": "execute_result",
          "data": {
            "text/plain": [
              "1.8708286933869707"
            ]
          },
          "metadata": {
            "tags": []
          },
          "execution_count": 3
        }
      ]
    },
    {
      "cell_type": "code",
      "metadata": {
        "id": "HS-dH-8dhvX-"
      },
      "source": [
        "import matplotlib.pyplot as plt"
      ],
      "execution_count": null,
      "outputs": []
    },
    {
      "cell_type": "code",
      "metadata": {
        "id": "BaRTZ2Q-jU-3"
      },
      "source": [
        "a=[1,2,5,6,7,9,12,35,58,100,18,65]\n"
      ],
      "execution_count": null,
      "outputs": []
    },
    {
      "cell_type": "code",
      "metadata": {
        "colab": {
          "base_uri": "https://localhost:8080/",
          "height": 402
        },
        "id": "6BFNcnH9javV",
        "outputId": "38a5c3a1-b12f-448e-a96a-56560f835bec"
      },
      "source": [
        "plt.boxplot(m, vert=False)"
      ],
      "execution_count": null,
      "outputs": [
        {
          "output_type": "execute_result",
          "data": {
            "text/plain": [
              "{'boxes': [<matplotlib.lines.Line2D at 0x7f5d3cd05390>],\n",
              " 'caps': [<matplotlib.lines.Line2D at 0x7f5d3cd0a3d0>,\n",
              "  <matplotlib.lines.Line2D at 0x7f5d3cd0a910>],\n",
              " 'fliers': [<matplotlib.lines.Line2D at 0x7f5d3cd12410>],\n",
              " 'means': [],\n",
              " 'medians': [<matplotlib.lines.Line2D at 0x7f5d3cd0ae90>],\n",
              " 'whiskers': [<matplotlib.lines.Line2D at 0x7f5d3cd05910>,\n",
              "  <matplotlib.lines.Line2D at 0x7f5d3cd05e50>]}"
            ]
          },
          "metadata": {
            "tags": []
          },
          "execution_count": 14
        },
        {
          "output_type": "display_data",
          "data": {
            "image/png": "[encoded data removed]",
            "text/plain": [
              "<Figure size 432x288 with 1 Axes>"
            ]
          },
          "metadata": {
            "tags": [],
            "needs_background": "light"
          }
        }
      ]
    },
    {
      "cell_type": "code",
      "metadata": {
        "id": "u1gi29qQjdLg"
      },
      "source": [
        "import numpy as np\n",
        "import pandas as pd"
      ],
      "execution_count": null,
      "outputs": []
    },
    {
      "cell_type": "code",
      "metadata": {
        "colab": {
          "base_uri": "https://localhost:8080/"
        },
        "id": "Z6Ield5rlgdU",
        "outputId": "20fc026a-39b4-45cf-d542-519ebd3c10a5"
      },
      "source": [
        "np.cov(a,m)"
      ],
      "execution_count": null,
      "outputs": [
        {
          "output_type": "execute_result",
          "data": {
            "text/plain": [
              "array([[1004.63636364,  -38.72727273],\n",
              "       [ -38.72727273,  172.        ]])"
            ]
          },
          "metadata": {
            "tags": []
          },
          "execution_count": 18
        }
      ]
    },
    {
      "cell_type": "code",
      "metadata": {
        "id": "ZXfR2-JElqbT"
      },
      "source": [
        "b= np.arange(1,13,1)"
      ],
      "execution_count": null,
      "outputs": []
    },
    {
      "cell_type": "code",
      "metadata": {
        "id": "9kw8epTcl3aU",
        "colab": {
          "base_uri": "https://localhost:8080/",
          "height": 419
        },
        "outputId": "6da58572-82c2-4fe4-f1df-0357f5248722"
      },
      "source": [
        "z= pd.DataFrame(a, index=b)\n",
        "z"
      ],
      "execution_count": null,
      "outputs": [
        {
          "output_type": "execute_result",
          "data": {
            "text/html": [
              "<div>\n",
              "<style scoped>\n",
              "    .dataframe tbody tr th:only-of-type {\n",
              "        vertical-align: middle;\n",
              "    }\n",
              "\n",
              "    .dataframe tbody tr th {\n",
              "        vertical-align: top;\n",
              "    }\n",
              "\n",
              "    .dataframe thead th {\n",
              "        text-align: right;\n",
              "    }\n",
              "</style>\n",
              "<table border=\"1\" class=\"dataframe\">\n",
              "  <thead>\n",
              "    <tr style=\"text-align: right;\">\n",
              "      <th></th>\n",
              "      <th>0</th>\n",
              "    </tr>\n",
              "  </thead>\n",
              "  <tbody>\n",
              "    <tr>\n",
              "      <th>1</th>\n",
              "      <td>1</td>\n",
              "    </tr>\n",
              "    <tr>\n",
              "      <th>2</th>\n",
              "      <td>2</td>\n",
              "    </tr>\n",
              "    <tr>\n",
              "      <th>3</th>\n",
              "      <td>5</td>\n",
              "    </tr>\n",
              "    <tr>\n",
              "      <th>4</th>\n",
              "      <td>6</td>\n",
              "    </tr>\n",
              "    <tr>\n",
              "      <th>5</th>\n",
              "      <td>7</td>\n",
              "    </tr>\n",
              "    <tr>\n",
              "      <th>6</th>\n",
              "      <td>9</td>\n",
              "    </tr>\n",
              "    <tr>\n",
              "      <th>7</th>\n",
              "      <td>12</td>\n",
              "    </tr>\n",
              "    <tr>\n",
              "      <th>8</th>\n",
              "      <td>35</td>\n",
              "    </tr>\n",
              "    <tr>\n",
              "      <th>9</th>\n",
              "      <td>58</td>\n",
              "    </tr>\n",
              "    <tr>\n",
              "      <th>10</th>\n",
              "      <td>100</td>\n",
              "    </tr>\n",
              "    <tr>\n",
              "      <th>11</th>\n",
              "      <td>18</td>\n",
              "    </tr>\n",
              "    <tr>\n",
              "      <th>12</th>\n",
              "      <td>65</td>\n",
              "    </tr>\n",
              "  </tbody>\n",
              "</table>\n",
              "</div>"
            ],
            "text/plain": [
              "      0\n",
              "1     1\n",
              "2     2\n",
              "3     5\n",
              "4     6\n",
              "5     7\n",
              "6     9\n",
              "7    12\n",
              "8    35\n",
              "9    58\n",
              "10  100\n",
              "11   18\n",
              "12   65"
            ]
          },
          "metadata": {
            "tags": []
          },
          "execution_count": 21
        }
      ]
    },
    {
      "cell_type": "code",
      "metadata": {
        "colab": {
          "base_uri": "https://localhost:8080/"
        },
        "id": "xzXv45wTl3ul",
        "outputId": "1657c0a0-c37a-441e-8d46-69a24ae8d948"
      },
      "source": [
        "z[0].sum()"
      ],
      "execution_count": null,
      "outputs": [
        {
          "output_type": "execute_result",
          "data": {
            "text/plain": [
              "318"
            ]
          },
          "metadata": {
            "tags": []
          },
          "execution_count": 28
        }
      ]
    },
    {
      "cell_type": "code",
      "metadata": {
        "id": "OpTn14VlmPz3",
        "colab": {
          "base_uri": "https://localhost:8080/"
        },
        "outputId": "c40980a4-e203-461c-cc59-86a84cec6b7c"
      },
      "source": [
        "from scipy.stats import binom\n",
        "binom.pmf(3,16,1/6)\n",
        "# pmf(x,n,p) where x-success n-trials"
      ],
      "execution_count": null,
      "outputs": [
        {
          "output_type": "execute_result",
          "data": {
            "text/plain": [
              "0.2423137603371325"
            ]
          },
          "metadata": {
            "tags": []
          },
          "execution_count": 1
        }
      ]
    },
    {
      "cell_type": "code",
      "metadata": {
        "colab": {
          "base_uri": "https://localhost:8080/"
        },
        "id": "aFg6FC9pWINo",
        "outputId": "8e2182fc-8043-48e8-9be6-feee99c83078"
      },
      "source": [
        "from scipy.stats import poisson\n",
        "poisson.pmf(4,8)"
      ],
      "execution_count": null,
      "outputs": [
        {
          "output_type": "execute_result",
          "data": {
            "text/plain": [
              "0.057252288495362"
            ]
          },
          "metadata": {
            "tags": []
          },
          "execution_count": 2
        }
      ]
    },
    {
      "cell_type": "code",
      "metadata": {
        "colab": {
          "base_uri": "https://localhost:8080/"
        },
        "id": "Arcjq0_YaLB9",
        "outputId": "23b40d94-3c5b-4884-c685-c04b7489ba43"
      },
      "source": [
        "poisson.cdf(2,8)"
      ],
      "execution_count": null,
      "outputs": [
        {
          "output_type": "execute_result",
          "data": {
            "text/plain": [
              "0.013753967744002971"
            ]
          },
          "metadata": {
            "tags": []
          },
          "execution_count": 4
        }
      ]
    },
    {
      "cell_type": "code",
      "metadata": {
        "colab": {
          "base_uri": "https://localhost:8080/"
        },
        "id": "tniTiFMyaNJu",
        "outputId": "bb9c9e24-7501-423f-9035-32b0a0be97a1"
      },
      "source": [
        "poisson.pmf(0,8/12)"
      ],
      "execution_count": null,
      "outputs": [
        {
          "output_type": "execute_result",
          "data": {
            "text/plain": [
              "0.513417119032592"
            ]
          },
          "metadata": {
            "tags": []
          },
          "execution_count": 5
        }
      ]
    },
    {
      "cell_type": "code",
      "metadata": {
        "colab": {
          "base_uri": "https://localhost:8080/"
        },
        "id": "PmX4yUUPaWV_",
        "outputId": "0a3c3e6a-575a-421b-f200-749da3c258d6"
      },
      "source": [
        "from scipy import stats\n",
        "z=0.70\n",
        "stats.norm.cdf(z)\n",
        "#this gives percentile"
      ],
      "execution_count": null,
      "outputs": [
        {
          "output_type": "execute_result",
          "data": {
            "text/plain": [
              "0.758036347776927"
            ]
          },
          "metadata": {
            "tags": []
          },
          "execution_count": 9
        }
      ]
    },
    {
      "cell_type": "code",
      "metadata": {
        "colab": {
          "base_uri": "https://localhost:8080/"
        },
        "id": "bn8OKEZGd7oE",
        "outputId": "e197d980-035e-4f0b-8ceb-69981dd0e350"
      },
      "source": [
        "p=0.95\n",
        "stats.norm.ppf(p)\n",
        "#This gives z score"
      ],
      "execution_count": null,
      "outputs": [
        {
          "output_type": "execute_result",
          "data": {
            "text/plain": [
              "1.6448536269514722"
            ]
          },
          "metadata": {
            "tags": []
          },
          "execution_count": 8
        }
      ]
    },
    {
      "cell_type": "code",
      "metadata": {
        "id": "vL-cBp95eGXa"
      },
      "source": [
        "data= [1,2,3,4,5,6,7]\n",
        "import numpy as np\n",
        "y=stats.zscore(data)"
      ],
      "execution_count": null,
      "outputs": []
    },
    {
      "cell_type": "code",
      "metadata": {
        "colab": {
          "base_uri": "https://localhost:8080/",
          "height": 282
        },
        "id": "OfCsQhDofELY",
        "outputId": "202d481c-9afa-435c-bbdb-722bbefd45b6"
      },
      "source": [
        "import matplotlib.pyplot as plt\n",
        "plt.bar(data, abs(y) )"
      ],
      "execution_count": null,
      "outputs": [
        {
          "output_type": "execute_result",
          "data": {
            "text/plain": [
              "<BarContainer object of 7 artists>"
            ]
          },
          "metadata": {
            "tags": []
          },
          "execution_count": 17
        },
        {
          "output_type": "display_data",
          "data": {
            "image/png": "[encoded data removed]",
            "text/plain": [
              "<Figure size 432x288 with 1 Axes>"
            ]
          },
          "metadata": {
            "tags": [],
            "needs_background": "light"
          }
        }
      ]
    },
    {
      "cell_type": "code",
      "metadata": {
        "id": "nwj5-ooWfPVS",
        "colab": {
          "base_uri": "https://localhost:8080/"
        },
        "outputId": "812e2b4f-71cb-4fae-ae01-f10406d85241"
      },
      "source": [
        "from scipy.stats import ttest_ind\n",
        "a= [1184, 1203, 1219, 1248]\n",
        "b=[1136,1178, 1212, 1148]\n",
        "#one tailed test\n",
        "ttest_ind(a,b).statistic"
      ],
      "execution_count": null,
      "outputs": [
        {
          "output_type": "execute_result",
          "data": {
            "text/plain": [
              "2.072024666619891"
            ]
          },
          "metadata": {
            "tags": []
          },
          "execution_count": 2
        }
      ]
    },
    {
      "cell_type": "code",
      "metadata": {
        "colab": {
          "base_uri": "https://localhost:8080/"
        },
        "id": "n7Y6VvQC7ByT",
        "outputId": "f87a8ebc-48fc-4166-8e8d-689407217717"
      },
      "source": [
        "#to do two tailed test\n",
        "ttest_ind(a,b).pvalue/2"
      ],
      "execution_count": null,
      "outputs": [
        {
          "output_type": "execute_result",
          "data": {
            "text/plain": [
              "0.041826378280798694"
            ]
          },
          "metadata": {
            "tags": []
          },
          "execution_count": 4
        }
      ]
    },
    {
      "cell_type": "code",
      "metadata": {
        "colab": {
          "base_uri": "https://localhost:8080/"
        },
        "id": "muew-g-_7LYT",
        "outputId": "cbc83c77-4674-43bf-d010-bcca3c48637b"
      },
      "source": [
        "from scipy import stats\n",
        "\n",
        "#get f score for dfnumerator dfdenominator at a particular significance level)\n",
        "stats.f.ppf(1-.05, dfn=2,dfd=27)"
      ],
      "execution_count": null,
      "outputs": [
        {
          "output_type": "execute_result",
          "data": {
            "text/plain": [
              "3.3541308285291986"
            ]
          },
          "metadata": {
            "tags": []
          },
          "execution_count": 6
        }
      ]
    },
    {
      "cell_type": "code",
      "metadata": {
        "colab": {
          "base_uri": "https://localhost:8080/"
        },
        "id": "qs5OzM5m-i58",
        "outputId": "a27d5ac0-e835-44e7-81ea-ca75821ed0b8"
      },
      "source": [
        "from scipy.stats import linregress\n",
        "x=[34,35,42,47]\n",
        "y=[102,109, 148,158]\n",
        "slope= round(linregress(x,y).slope,1)\n",
        "intercept= round(linregress(x,y).intercept,1)\n",
        "slope, intercept"
      ],
      "execution_count": null,
      "outputs": [
        {
          "output_type": "execute_result",
          "data": {
            "text/plain": [
              "(4.5, -46.8)"
            ]
          },
          "metadata": {
            "tags": []
          },
          "execution_count": 10
        }
      ]
    },
    {
      "cell_type": "code",
      "metadata": {
        "colab": {
          "base_uri": "https://localhost:8080/"
        },
        "id": "s87h3RsIPMKl",
        "outputId": "bfa53b37-2ab8-444e-e16d-a261e07372b4"
      },
      "source": [
        "from sklearn.linear_model import LinearRegression\n",
        "x1, x2= [1,3,2,3,1], [8,4,9,6,3]\n",
        "y=[29,31,36,35,19]\n",
        "\n",
        "reg= LinearRegression()\n",
        "reg.fit(list(zip(x1,x2)),y)\n",
        "b1,b2= reg.coef_[0], reg.coef_[1]\n",
        "b0= reg.intercept_\n",
        "print(\"{}+{}x+{}x2\".format(b0,b1,b2))"
      ],
      "execution_count": null,
      "outputs": [
        {
          "output_type": "stream",
          "text": [
            "7.999999999999993+5.0x+2.000000000000001x2\n"
          ],
          "name": "stdout"
        }
      ]
    },
    {
      "cell_type": "code",
      "metadata": {
        "colab": {
          "base_uri": "https://localhost:8080/"
        },
        "id": "_jFkYoBYPYMM",
        "outputId": "88761c0e-7c9a-4904-963d-89ae28cf0e11"
      },
      "source": [
        "from scipy.stats import chi2\n",
        "chi2.isf(0.05,5)"
      ],
      "execution_count": null,
      "outputs": [
        {
          "output_type": "execute_result",
          "data": {
            "text/plain": [
              "11.070497693516355"
            ]
          },
          "metadata": {
            "tags": []
          },
          "execution_count": 12
        }
      ]
    },
    {
      "cell_type": "code",
      "metadata": {
        "id": "WuN4TewYTn7h",
        "colab": {
          "base_uri": "https://localhost:8080/"
        },
        "outputId": "a94206ae-cc0c-4b31-9f80-b24917839838"
      },
      "source": [
        "#Mean median mode\n",
        "import numpy as np\n",
        "y= [0, 1, 0, 1, 0, 1, 0]\n",
        "j= np.mean(y)\n",
        "print(f'{j:.2f}')\n",
        "print(round(j,2))"
      ],
      "execution_count": null,
      "outputs": [
        {
          "output_type": "stream",
          "text": [
            "0.43\n",
            "0.43\n"
          ],
          "name": "stdout"
        }
      ]
    },
    {
      "cell_type": "code",
      "metadata": {
        "colab": {
          "base_uri": "https://localhost:8080/"
        },
        "id": "G0OXWb8qfmWY",
        "outputId": "12482370-63aa-4141-dea2-59796b76687f"
      },
      "source": [
        "np.median(y)"
      ],
      "execution_count": null,
      "outputs": [
        {
          "output_type": "execute_result",
          "data": {
            "text/plain": [
              "0.0"
            ]
          },
          "metadata": {
            "tags": []
          },
          "execution_count": 3
        }
      ]
    },
    {
      "cell_type": "code",
      "metadata": {
        "colab": {
          "base_uri": "https://localhost:8080/"
        },
        "id": "fbOMfJzAfp5o",
        "outputId": "3a78df34-435f-49bb-bc8f-715a829297f9"
      },
      "source": [
        "from scipy import stats\n",
        "int(stats.mode(y)[0])"
      ],
      "execution_count": null,
      "outputs": [
        {
          "output_type": "execute_result",
          "data": {
            "text/plain": [
              "0"
            ]
          },
          "metadata": {
            "tags": []
          },
          "execution_count": 5
        }
      ]
    },
    {
      "cell_type": "code",
      "metadata": {
        "id": "zdN4SQYOfrcD"
      },
      "source": [
        "#weighted sum\n",
        "y=[1,2,3,4]\n",
        "x=[2,1,3,4]\n",
        "z=sum(np.array(x)*np.array(y))/sum(x)\n",
        "z\n",
        "n=4"
      ],
      "execution_count": null,
      "outputs": []
    },
    {
      "cell_type": "code",
      "metadata": {
        "colab": {
          "base_uri": "https://localhost:8080/"
        },
        "id": "Rf3TwPaIg_ww",
        "outputId": "6beb6dbc-7d18-4fa8-91d8-c637f50a56f3"
      },
      "source": [
        "sum(z)"
      ],
      "execution_count": null,
      "outputs": [
        {
          "output_type": "execute_result",
          "data": {
            "text/plain": [
              "29"
            ]
          },
          "metadata": {
            "tags": []
          },
          "execution_count": 8
        }
      ]
    },
    {
      "cell_type": "code",
      "metadata": {
        "colab": {
          "base_uri": "https://localhost:8080/"
        },
        "id": "9P5UOn3VlHwH",
        "outputId": "6c0b944a-2918-4bae-b865-a9ba605065da"
      },
      "source": [
        "#weighted mean without using numpy\n",
        "print(sum([i[0]*i[1] for i in zip(x,y)])/sum(x))\n",
        "  "
      ],
      "execution_count": null,
      "outputs": [
        {
          "output_type": "stream",
          "text": [
            "2.9\n"
          ],
          "name": "stdout"
        }
      ]
    },
    {
      "cell_type": "code",
      "metadata": {
        "colab": {
          "base_uri": "https://localhost:8080/"
        },
        "id": "ZHtBs3ncmyrO",
        "outputId": "7c3b0afd-3e8a-4ff9-ee97-7b3d8018ad4a"
      },
      "source": [
        "#interquartile\n",
        "j=[2,3,5,6,1,2]\n",
        "Q1= np.percentile(j, 25,interpolation='midpoint')\n",
        "Q2= np.percentile(j, 75,interpolation='midpoint')\n",
        "Q3= np.percentile(j, 50,interpolation='midpoint')\n",
        "print(Q1,Q3,Q2)"
      ],
      "execution_count": null,
      "outputs": [
        {
          "output_type": "stream",
          "text": [
            "2.0 2.5 4.0\n"
          ],
          "name": "stdout"
        }
      ]
    },
    {
      "cell_type": "code",
      "metadata": {
        "id": "yvpw3qktJcef",
        "colab": {
          "base_uri": "https://localhost:8080/"
        },
        "outputId": "67ad48e2-f547-47ff-9328-615ae5102a72"
      },
      "source": [
        "#without using Numpy\n",
        "\n",
        "sorted(j)[int(len(j)*0.25)], sorted(j)[int(len(j)*0.75)]\n"
      ],
      "execution_count": null,
      "outputs": [
        {
          "output_type": "execute_result",
          "data": {
            "text/plain": [
              "(2, 5)"
            ]
          },
          "metadata": {
            "tags": []
          },
          "execution_count": 14
        }
      ]
    },
    {
      "cell_type": "code",
      "metadata": {
        "colab": {
          "base_uri": "https://localhost:8080/"
        },
        "id": "WkBo_Q3IKHw_",
        "outputId": "858bdfa8-067f-40b7-da2b-e91a3a8ff483"
      },
      "source": [
        "sorted(j)[int(len(j)/2)]"
      ],
      "execution_count": null,
      "outputs": [
        {
          "output_type": "execute_result",
          "data": {
            "text/plain": [
              "3"
            ]
          },
          "metadata": {
            "tags": []
          },
          "execution_count": 17
        }
      ]
    },
    {
      "cell_type": "code",
      "metadata": {
        "id": "gfKuO36sLIrv",
        "colab": {
          "base_uri": "https://localhost:8080/"
        },
        "outputId": "c43f77db-6c6e-433d-b8e8-868c53c59782"
      },
      "source": [
        "j=[1,2,6,3,4,5]\n",
        "m=sorted(j)\n",
        "m"
      ],
      "execution_count": null,
      "outputs": [
        {
          "output_type": "execute_result",
          "data": {
            "text/plain": [
              "[1, 2, 3, 4, 5, 6]"
            ]
          },
          "metadata": {
            "tags": []
          },
          "execution_count": 103
        }
      ]
    },
    {
      "cell_type": "code",
      "metadata": {
        "colab": {
          "base_uri": "https://localhost:8080/"
        },
        "id": "iJf-hW1NfEUy",
        "outputId": "fd25715b-aca9-4a8a-d9c4-42c72e42a1da"
      },
      "source": [
        "j=[1,5,2,4,5]\n",
        "m=sorted(j)\n",
        "m"
      ],
      "execution_count": null,
      "outputs": [
        {
          "output_type": "execute_result",
          "data": {
            "text/plain": [
              "[1, 2, 4, 5, 5]"
            ]
          },
          "metadata": {
            "tags": []
          },
          "execution_count": 108
        }
      ]
    },
    {
      "cell_type": "code",
      "metadata": {
        "colab": {
          "base_uri": "https://localhost:8080/"
        },
        "id": "DlVcXlhheU1m",
        "outputId": "1be40fd5-32cc-434f-b27c-f24d08d51eb2"
      },
      "source": [
        "#median\n",
        "if (len(m)%2==1):\n",
        "  Q2= m[int(len(m)/2)]\n",
        "  print(Q2)\n",
        "else:\n",
        "  Q2= (m[len(m)//2]+ m[len(m)//2+1])/2\n",
        "  print(Q2)\n"
      ],
      "execution_count": null,
      "outputs": [
        {
          "output_type": "stream",
          "text": [
            "14.0\n"
          ],
          "name": "stdout"
        }
      ]
    },
    {
      "cell_type": "code",
      "metadata": {
        "colab": {
          "base_uri": "https://localhost:8080/"
        },
        "id": "xzkEV44jfPLW",
        "outputId": "7566f819-4149-4ca8-88cb-f896fa2a42cd"
      },
      "source": [
        "if((len(m)//2)%2==1):\n",
        "  Q1=m[int(len(m)*0.25)]\n",
        "  print(Q1)\n",
        "else:\n",
        "  Q1=(m[int(len(m)*0.25)]+m[int(len(m)//4-1)])/2\n",
        "  print(Q1)\n"
      ],
      "execution_count": null,
      "outputs": [
        {
          "output_type": "stream",
          "text": [
            "7\n"
          ],
          "name": "stdout"
        }
      ]
    },
    {
      "cell_type": "code",
      "metadata": {
        "colab": {
          "base_uri": "https://localhost:8080/"
        },
        "id": "JnzI18pLfqbg",
        "outputId": "5dde7fd4-8ef9-4aae-8203-453e509642bd"
      },
      "source": [
        "if((len(m)//2)%2==1):\n",
        "  Q3=m[int(len(m)*0.75)]\n",
        "  print(Q3)\n",
        "else:\n",
        "  Q3=(m[int(len(m)*0.75)]+m[int(len(m)*0.75+1)])/2\n",
        "  print(Q3)\n",
        "\n",
        "  \n"
      ],
      "execution_count": null,
      "outputs": [
        {
          "output_type": "stream",
          "text": [
            "15\n"
          ],
          "name": "stdout"
        }
      ]
    },
    {
      "cell_type": "code",
      "metadata": {
        "colab": {
          "base_uri": "https://localhost:8080/"
        },
        "id": "rPhqfHWIgSX2",
        "outputId": "25db262f-608e-46f0-f6d0-cb207b2ec430"
      },
      "source": [
        "arr=[3,7,8,5,12,14,21,15,18,14]\n",
        "m=sorted(arr)\n",
        "m"
      ],
      "execution_count": null,
      "outputs": [
        {
          "output_type": "execute_result",
          "data": {
            "text/plain": [
              "[3, 5, 7, 8, 12, 14, 14, 15, 18, 21]"
            ]
          },
          "metadata": {
            "tags": []
          },
          "execution_count": 130
        }
      ]
    },
    {
      "cell_type": "code",
      "metadata": {
        "colab": {
          "base_uri": "https://localhost:8080/"
        },
        "id": "ZJAczXNDgiYV",
        "outputId": "96845250-a944-4c1b-ea9e-bd8763d107d1"
      },
      "source": [
        "m[5]+m[6]"
      ],
      "execution_count": null,
      "outputs": [
        {
          "output_type": "execute_result",
          "data": {
            "text/plain": [
              "28"
            ]
          },
          "metadata": {
            "tags": []
          },
          "execution_count": 126
        }
      ]
    },
    {
      "cell_type": "code",
      "metadata": {
        "id": "pM4f5p09jq7r"
      },
      "source": [
        "def quar(m):\n",
        "  if (len(m)%2==1):\n",
        "    Q2= m[int(len(m)/2)]\n",
        "    print(Q2)\n",
        "  else:\n",
        "    Q2= (m[len(m)//2]+ m[len(m)//2+1])/2\n",
        "    print(Q2)\n",
        "\n",
        "  if((len(m)//2)%2==1):\n",
        "    Q1=m[int(len(m)*0.25)]\n",
        "    Q3=m[int(len(m)*0.75)]\n",
        "    print(Q1,Q3)\n",
        "  else:\n",
        "    Q1=(m[int(len(m)*0.25)]+m[int(len(m)//4-1)])/2\n",
        "    Q3=(m[int(len(m)*0.75)]+m[int(len(m)*0.75+1)])/2\n",
        "    print(Q1,Q3)\n",
        "  return(Q1,Q2,Q3)\n",
        "\n",
        "  \n"
      ],
      "execution_count": null,
      "outputs": []
    },
    {
      "cell_type": "code",
      "metadata": {
        "id": "rTZ2mPHBqYZg"
      },
      "source": [
        ""
      ],
      "execution_count": null,
      "outputs": []
    }
  ]
}