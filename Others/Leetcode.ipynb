{
  "nbformat": 4,
  "nbformat_minor": 0,
  "metadata": {
    "colab": {
      "name": "Leetcode",
      "provenance": [],
      "collapsed_sections": []
    },
    "kernelspec": {
      "name": "python3",
      "display_name": "Python 3"
    },
    "language_info": {
      "name": "python"
    }
  },
  "cells": [
    {
      "cell_type": "code",
      "metadata": {
        "id": "-zWKv7QQlSkF"
      },
      "source": [
        "a= 'abcdef'\n",
        "b='xyz'\n",
        "count=0"
      ],
      "execution_count": null,
      "outputs": []
    },
    {
      "cell_type": "code",
      "metadata": {
        "colab": {
          "base_uri": "https://localhost:8080/"
        },
        "id": "JIjjKwXtmq9M",
        "outputId": "e1da0cbe-e47b-4838-ff6e-c95aceccf6de"
      },
      "source": [
        "string=''\n",
        "min(len(a), len(b))"
      ],
      "execution_count": null,
      "outputs": [
        {
          "output_type": "execute_result",
          "data": {
            "text/plain": [
              "3"
            ]
          },
          "metadata": {
            "tags": []
          },
          "execution_count": 2
        }
      ]
    },
    {
      "cell_type": "code",
      "metadata": {
        "colab": {
          "base_uri": "https://localhost:8080/"
        },
        "id": "gaGWkWALmvhL",
        "outputId": "6f174e77-1ce2-4cec-83bd-b05f9ff15a09"
      },
      "source": [
        "\n",
        "while count <3:\n",
        "  string= string+a[count]\n",
        "  string= string+b[count]\n",
        "  count=count+1\n",
        "\n",
        "print(count)\n",
        "print(string+ a[count:]+b[count:])"
      ],
      "execution_count": null,
      "outputs": [
        {
          "output_type": "stream",
          "text": [
            "3\n",
            "axbyczdef\n"
          ],
          "name": "stdout"
        }
      ]
    },
    {
      "cell_type": "code",
      "metadata": {
        "id": "lWYRQMHxm9Su"
      },
      "source": [
        "mat=[[1,2,3],[2,3,4],[4,5,6]]"
      ],
      "execution_count": null,
      "outputs": []
    },
    {
      "cell_type": "code",
      "metadata": {
        "id": "QIAJrg_gns-a"
      },
      "source": [
        "c=0\n",
        "n= len(mat)"
      ],
      "execution_count": null,
      "outputs": []
    },
    {
      "cell_type": "code",
      "metadata": {
        "id": "CIRP9IAnnuJk"
      },
      "source": [
        "for i in range(n):\n",
        "  c= mat[i][i]+mat[i][n-i-1]\n"
      ],
      "execution_count": null,
      "outputs": []
    },
    {
      "cell_type": "code",
      "metadata": {
        "colab": {
          "base_uri": "https://localhost:8080/"
        },
        "id": "wNLgGjt1rSd8",
        "outputId": "d47bfaf7-0f3f-44c3-aef0-6a05308a7852"
      },
      "source": [
        "\n",
        "print(c)"
      ],
      "execution_count": null,
      "outputs": [
        {
          "output_type": "stream",
          "text": [
            "10\n"
          ],
          "name": "stdout"
        }
      ]
    },
    {
      "cell_type": "code",
      "metadata": {
        "colab": {
          "base_uri": "https://localhost:8080/"
        },
        "id": "k2Oruy0BrfdC",
        "outputId": "f57df561-e7ef-4c01-fe1d-4066be192c94"
      },
      "source": [
        "#matrix multiplication\n",
        "\n",
        "a=[[1,2,3,4],[1,3,5,6],[1,4,5,6]]\n",
        "b=[[2,3,4],[3,4,5],[4,5,6],[5,6,7]]\n",
        "\n",
        "r=[[0 for x in range(len(a))] for y in range(len(b[0]))]\n",
        "\n",
        "for i in range(len(a)):\n",
        "  for j in range(len(b[0])):\n",
        "    for k in range(len(b)):\n",
        "      r[i][j]= r[i][j]+ a[i][k] * b[k][j]\n",
        "print(r)\n"
      ],
      "execution_count": null,
      "outputs": [
        {
          "output_type": "stream",
          "text": [
            "[[40, 50, 60], [61, 76, 91], [64, 80, 96]]\n"
          ],
          "name": "stdout"
        }
      ]
    },
    {
      "cell_type": "code",
      "metadata": {
        "colab": {
          "base_uri": "https://localhost:8080/"
        },
        "id": "HR0mrbFm3Syx",
        "outputId": "23f591cd-8dab-4d17-9935-ca3ee1e64ea0"
      },
      "source": [
        "len(a[0])//2"
      ],
      "execution_count": null,
      "outputs": [
        {
          "output_type": "execute_result",
          "data": {
            "text/plain": [
              "2"
            ]
          },
          "metadata": {
            "tags": []
          },
          "execution_count": 9
        }
      ]
    },
    {
      "cell_type": "code",
      "metadata": {
        "colab": {
          "base_uri": "https://localhost:8080/"
        },
        "id": "qY-dk94pBaXS",
        "outputId": "725e4467-5753-4a26-ef8f-7039fbdce4ba"
      },
      "source": [
        "n=153\n",
        "j= n%10\n",
        "n = n//10\n",
        "x=j*j*j\n",
        "x"
      ],
      "execution_count": null,
      "outputs": [
        {
          "output_type": "execute_result",
          "data": {
            "text/plain": [
              "27"
            ]
          },
          "metadata": {
            "tags": []
          },
          "execution_count": 10
        }
      ]
    },
    {
      "cell_type": "code",
      "metadata": {
        "colab": {
          "base_uri": "https://localhost:8080/"
        },
        "id": "LXuL7TA09HgV",
        "outputId": "6c1c3439-714d-43d5-dd2d-061b81f39dc7"
      },
      "source": [
        "n=4\n",
        "for i in range(n//2):\n",
        "  print(i)\n",
        "\n"
      ],
      "execution_count": null,
      "outputs": [
        {
          "output_type": "stream",
          "text": [
            "0\n",
            "1\n"
          ],
          "name": "stdout"
        }
      ]
    },
    {
      "cell_type": "code",
      "metadata": {
        "colab": {
          "base_uri": "https://localhost:8080/"
        },
        "id": "RQfI-3_f98nt",
        "outputId": "cdc2bc03-92c5-4e64-da38-7b6a3ffbd25c"
      },
      "source": [
        "l=[1,2,3,4,5]\n",
        "len(l)"
      ],
      "execution_count": null,
      "outputs": [
        {
          "output_type": "execute_result",
          "data": {
            "text/plain": [
              "5"
            ]
          },
          "metadata": {
            "tags": []
          },
          "execution_count": 12
        }
      ]
    },
    {
      "cell_type": "code",
      "metadata": {
        "colab": {
          "base_uri": "https://localhost:8080/"
        },
        "id": "__YaUpsF9fha",
        "outputId": "606eb167-232a-4e19-d5f4-1af30eb669d6"
      },
      "source": [
        "for i in range(0,6,2):\n",
        "  print(i)"
      ],
      "execution_count": null,
      "outputs": [
        {
          "output_type": "stream",
          "text": [
            "0\n",
            "2\n",
            "4\n"
          ],
          "name": "stdout"
        }
      ]
    },
    {
      "cell_type": "code",
      "metadata": {
        "colab": {
          "base_uri": "https://localhost:8080/"
        },
        "id": "brxq3oo99jpN",
        "outputId": "ac0069a5-f7b2-42a5-ac8a-724835ad6cfb"
      },
      "source": [
        "for i in range(5-0):\n",
        "  print(i)"
      ],
      "execution_count": null,
      "outputs": [
        {
          "output_type": "stream",
          "text": [
            "0\n",
            "1\n",
            "2\n",
            "3\n",
            "4\n"
          ],
          "name": "stdout"
        }
      ]
    },
    {
      "cell_type": "code",
      "metadata": {
        "colab": {
          "base_uri": "https://localhost:8080/"
        },
        "id": "MjMiIMnX-CHE",
        "outputId": "5815b626-e6d8-4828-b646-627708e83715"
      },
      "source": [
        "\n",
        "\n",
        "l[0:1]"
      ],
      "execution_count": null,
      "outputs": [
        {
          "output_type": "execute_result",
          "data": {
            "text/plain": [
              "[1]"
            ]
          },
          "metadata": {
            "tags": []
          },
          "execution_count": 15
        }
      ]
    },
    {
      "cell_type": "code",
      "metadata": {
        "colab": {
          "base_uri": "https://localhost:8080/"
        },
        "id": "e2uQOuIM-g-w",
        "outputId": "f6d7720a-9601-4d86-8d67-47b257296034"
      },
      "source": [
        "l[1:2]"
      ],
      "execution_count": null,
      "outputs": [
        {
          "output_type": "execute_result",
          "data": {
            "text/plain": [
              "[2]"
            ]
          },
          "metadata": {
            "tags": []
          },
          "execution_count": 9
        }
      ]
    },
    {
      "cell_type": "code",
      "metadata": {
        "id": "szxjDZH4-rSw",
        "colab": {
          "base_uri": "https://localhost:8080/",
          "height": 35
        },
        "outputId": "05a6a6bd-b6e3-410a-d945-97b67addbb57"
      },
      "source": [
        "a=48\n",
        "def mult(x):\n",
        "  if (x%5==0):\n",
        "    return(\"Value is a multiplier of 5\")\n",
        "  else:\n",
        "    return(\"Value is not a multiplier of 5\")\n",
        "\n",
        "mult(a)"
      ],
      "execution_count": null,
      "outputs": [
        {
          "output_type": "execute_result",
          "data": {
            "application/vnd.google.colaboratory.intrinsic+json": {
              "type": "string"
            },
            "text/plain": [
              "'Value is not a multiplier of 5'"
            ]
          },
          "metadata": {
            "tags": []
          },
          "execution_count": 16
        }
      ]
    },
    {
      "cell_type": "code",
      "metadata": {
        "id": "J8etJ_0OsuPg"
      },
      "source": [
        "y=[0,0,0,0,1]\n",
        "y=[0]+y+[0]\n",
        "count=0\n"
      ],
      "execution_count": null,
      "outputs": []
    },
    {
      "cell_type": "code",
      "metadata": {
        "colab": {
          "base_uri": "https://localhost:8080/"
        },
        "id": "JMaLgVw55AT4",
        "outputId": "a93a8599-c97e-4d51-b44b-5de8be6a9a34"
      },
      "source": [
        "for i in range(1,len(y)-1):\n",
        "    if y[i] == 0 and y[i-1] !=1 and y[i+1]!=1:\n",
        "      count=count+1\n",
        "      y[i]=1\n",
        "print(count)\n",
        "\n"
      ],
      "execution_count": null,
      "outputs": [
        {
          "output_type": "stream",
          "text": [
            "2\n"
          ],
          "name": "stdout"
        }
      ]
    },
    {
      "cell_type": "code",
      "metadata": {
        "colab": {
          "base_uri": "https://localhost:8080/"
        },
        "id": "uKeHB8Cg5Jvh",
        "outputId": "2319f508-dd7c-4bae-fd75-88a3e79fdca7"
      },
      "source": [
        "y"
      ],
      "execution_count": null,
      "outputs": [
        {
          "output_type": "execute_result",
          "data": {
            "text/plain": [
              "[0, 1, 0, 1, 0, 1, 0]"
            ]
          },
          "metadata": {
            "tags": []
          },
          "execution_count": 19
        }
      ]
    },
    {
      "cell_type": "code",
      "metadata": {
        "id": "R8R44OOS7ifJ",
        "colab": {
          "base_uri": "https://localhost:8080/"
        },
        "outputId": "bec97054-ebe9-466b-b043-91f988ea2f19"
      },
      "source": [
        "import numpy as np\n",
        "j= np.mean(y)\n",
        "print(f'{j:.2f}')"
      ],
      "execution_count": null,
      "outputs": [
        {
          "output_type": "stream",
          "text": [
            "0.43\n"
          ],
          "name": "stdout"
        }
      ]
    },
    {
      "cell_type": "code",
      "metadata": {
        "colab": {
          "base_uri": "https://localhost:8080/"
        },
        "id": "-pOxT4oeeIx3",
        "outputId": "4166d1b1-1be3-4233-b82b-3e0042284325"
      },
      "source": [
        "round(j,2)"
      ],
      "execution_count": null,
      "outputs": [
        {
          "output_type": "execute_result",
          "data": {
            "text/plain": [
              "0.43"
            ]
          },
          "metadata": {
            "tags": []
          },
          "execution_count": 32
        }
      ]
    },
    {
      "cell_type": "code",
      "metadata": {
        "colab": {
          "base_uri": "https://localhost:8080/"
        },
        "id": "sYEkR1Uge6C5",
        "outputId": "6b4f57f7-906e-4c23-e018-da4c16afcbf2"
      },
      "source": [
        "np.median(y)"
      ],
      "execution_count": null,
      "outputs": [
        {
          "output_type": "execute_result",
          "data": {
            "text/plain": [
              "0.0"
            ]
          },
          "metadata": {
            "tags": []
          },
          "execution_count": 33
        }
      ]
    },
    {
      "cell_type": "code",
      "metadata": {
        "colab": {
          "base_uri": "https://localhost:8080/"
        },
        "id": "1v6JZ2rgfGVt",
        "outputId": "0bd2d10e-1d31-41b4-9242-7cfb7cbc393d"
      },
      "source": [
        "from scipy import stats\n",
        "int(stats.mode(y)[0])\n"
      ],
      "execution_count": null,
      "outputs": [
        {
          "output_type": "execute_result",
          "data": {
            "text/plain": [
              "0"
            ]
          },
          "metadata": {
            "tags": []
          },
          "execution_count": 39
        }
      ]
    },
    {
      "cell_type": "code",
      "metadata": {
        "id": "EKNB0PQ6fH5N"
      },
      "source": [
        "# #to get input from stdin\n",
        "\n",
        "# size = int(input())\n",
        "# x = list(map(int, input().split()))\n",
        "\n",
        "# list(map(int, input().rstrip().split()))\n"
      ],
      "execution_count": null,
      "outputs": []
    },
    {
      "cell_type": "markdown",
      "metadata": {
        "id": "CxvnkImmPbQa"
      },
      "source": [
        "**Appending**"
      ]
    },
    {
      "cell_type": "code",
      "metadata": {
        "id": "GyMof013xs3V"
      },
      "source": [
        "x=5\n",
        "n= range(x)\n",
        "n\n",
        "sq=[]"
      ],
      "execution_count": null,
      "outputs": []
    },
    {
      "cell_type": "code",
      "metadata": {
        "colab": {
          "base_uri": "https://localhost:8080/"
        },
        "id": "5RqG2oqpxxlX",
        "outputId": "2fe1b748-ab6d-43bc-a673-ce9cc7d6b4d9"
      },
      "source": [
        "for i in range(0,5):\n",
        "  sq.append(i*i)\n",
        "print(sq)"
      ],
      "execution_count": null,
      "outputs": [
        {
          "output_type": "stream",
          "text": [
            "[0, 1, 4, 9, 16]\n"
          ],
          "name": "stdout"
        }
      ]
    },
    {
      "cell_type": "code",
      "metadata": {
        "colab": {
          "base_uri": "https://localhost:8080/"
        },
        "id": "cNukLmgyx9of",
        "outputId": "a422f214-b274-41b3-9b22-f70026ee9f40"
      },
      "source": [
        "\n",
        "#Appending continuous elements \n",
        "n=5\n",
        "m=[]\n",
        "for i in range(1,n+1):\n",
        "  m.append(str(i))\n",
        "\n",
        "print(''.join(m))\n",
        "\n",
        "\n",
        "\n"
      ],
      "execution_count": null,
      "outputs": [
        {
          "output_type": "stream",
          "text": [
            "12345\n"
          ],
          "name": "stdout"
        }
      ]
    },
    {
      "cell_type": "markdown",
      "metadata": {
        "id": "6wIWEnWRPezc"
      },
      "source": [
        "**Handling duplicates**"
      ]
    },
    {
      "cell_type": "code",
      "metadata": {
        "colab": {
          "base_uri": "https://localhost:8080/"
        },
        "id": "OYNMV3Ay0q5x",
        "outputId": "1c195163-eb10-4170-e615-155f9dc41ae3"
      },
      "source": [
        "\n",
        "#remove duplicate elements in string\n",
        "\n",
        "s=\"assds\"\n",
        "j=''.join(set(s))\n",
        "j\n",
        "y=[1,1,2,3,4]\n",
        "m= list(set(y))\n",
        "m"
      ],
      "execution_count": null,
      "outputs": [
        {
          "output_type": "execute_result",
          "data": {
            "text/plain": [
              "[1, 2, 3, 4]"
            ]
          },
          "metadata": {
            "tags": []
          },
          "execution_count": 63
        }
      ]
    },
    {
      "cell_type": "code",
      "metadata": {
        "id": "03-Ewhw41yeL"
      },
      "source": [
        "m=''.join(set(s))\n",
        "if s in m:\n",
        "  m.replace(s,'')\n",
        "  "
      ],
      "execution_count": null,
      "outputs": []
    },
    {
      "cell_type": "code",
      "metadata": {
        "colab": {
          "base_uri": "https://localhost:8080/"
        },
        "id": "Bzf5VGs1S5ck",
        "outputId": "48004632-8676-418c-904b-6d1dc1d0187a"
      },
      "source": [
        "#Unique values using dictionary\n",
        "j=[1,2,2,4]\n",
        "\n",
        "dct= {}\n",
        "for value in j:\n",
        "  dct[value]=dct.get(value,0)+1\n",
        "# print(sum(key for key, value in dct.items() if value==1))\n",
        "#print(sum(dct.keys()))\n",
        "print(dct.items())\n"
      ],
      "execution_count": null,
      "outputs": [
        {
          "output_type": "stream",
          "text": [
            "dict_items([(1, 1), (2, 2), (4, 1)])\n"
          ],
          "name": "stdout"
        }
      ]
    },
    {
      "cell_type": "code",
      "metadata": {
        "colab": {
          "base_uri": "https://localhost:8080/"
        },
        "id": "2xktWUVPTLCm",
        "outputId": "64120466-0bda-4c62-dff5-83e85021b640"
      },
      "source": [
        "\n",
        "#print unique values in list using function\n",
        "def unique(j):\n",
        "  list=[]\n",
        "  for x in j:\n",
        "    if x not in list:\n",
        "      list.append(x)\n",
        "\n",
        "  for i in list:\n",
        "    print(i)\n",
        "\n",
        "m=[1,2,3,4,5,5,6]\n",
        "unique(m)"
      ],
      "execution_count": null,
      "outputs": [
        {
          "output_type": "stream",
          "text": [
            "1\n",
            "2\n",
            "3\n",
            "4\n",
            "5\n",
            "6\n"
          ],
          "name": "stdout"
        }
      ]
    },
    {
      "cell_type": "markdown",
      "metadata": {
        "id": "qYdvJcTePTf4"
      },
      "source": [
        "**Sorting**"
      ]
    },
    {
      "cell_type": "code",
      "metadata": {
        "colab": {
          "base_uri": "https://localhost:8080/",
          "height": 35
        },
        "id": "VxPd9zb3NRrd",
        "outputId": "48d2febb-7b13-4a88-d946-128917a012fe"
      },
      "source": [
        "#sorting string\n",
        "j=sorted(set(s))\n",
        "j\n",
        "y=''.join(j)\n",
        "y\n"
      ],
      "execution_count": null,
      "outputs": [
        {
          "output_type": "execute_result",
          "data": {
            "application/vnd.google.colaboratory.intrinsic+json": {
              "type": "string"
            },
            "text/plain": [
              "'ads'"
            ]
          },
          "metadata": {
            "tags": []
          },
          "execution_count": 90
        }
      ]
    },
    {
      "cell_type": "code",
      "metadata": {
        "colab": {
          "base_uri": "https://localhost:8080/"
        },
        "id": "6ku7eaZNNXIb",
        "outputId": "f90059c2-5500-4e48-9ccb-5228b3a353f7"
      },
      "source": [
        "#sort elements of list\n",
        "m=list(set(y))\n",
        "m.sort()\n",
        "x=[]\n",
        "x=''.join(m)\n",
        "print(x)\n",
        "\n"
      ],
      "execution_count": null,
      "outputs": [
        {
          "output_type": "stream",
          "text": [
            "ads\n"
          ],
          "name": "stdout"
        }
      ]
    },
    {
      "cell_type": "code",
      "metadata": {
        "id": "q4elo0KYNmmU"
      },
      "source": [
        "#sorting df by column\n",
        "\n",
        "df.sort_values(by ='col',ascending=False,na_position='first')"
      ],
      "execution_count": null,
      "outputs": []
    },
    {
      "cell_type": "code",
      "metadata": {
        "id": "4T5XrW61NnFJ",
        "colab": {
          "base_uri": "https://localhost:8080/"
        },
        "outputId": "b6b7b409-b593-4866-9ade-159c4be8eea1"
      },
      "source": [
        "import itertools\n",
        "x=itertools.repeat(2,3)\n",
        "j=list(x)\n",
        "j\n"
      ],
      "execution_count": null,
      "outputs": [
        {
          "output_type": "execute_result",
          "data": {
            "text/plain": [
              "[2, 2, 2]"
            ]
          },
          "metadata": {
            "tags": []
          },
          "execution_count": 3
        }
      ]
    },
    {
      "cell_type": "code",
      "metadata": {
        "colab": {
          "base_uri": "https://localhost:8080/"
        },
        "id": "vpdqFtYTwexU",
        "outputId": "ea316d7c-6904-4a6c-e0b7-594ba253de57"
      },
      "source": [
        "l=[2,3,1,2]\n",
        "x=sorted(l)\n",
        "x"
      ],
      "execution_count": null,
      "outputs": [
        {
          "output_type": "execute_result",
          "data": {
            "text/plain": [
              "[1, 2, 2, 3]"
            ]
          },
          "metadata": {
            "tags": []
          },
          "execution_count": 7
        }
      ]
    },
    {
      "cell_type": "code",
      "metadata": {
        "id": "4bNDRZ9Lz0gq",
        "colab": {
          "base_uri": "https://localhost:8080/"
        },
        "outputId": "4d65655c-7d74-4c11-9cb4-9be1f7d68ca8"
      },
      "source": [
        "for i in range(2,11):\n",
        "  print(i)"
      ],
      "execution_count": null,
      "outputs": [
        {
          "output_type": "stream",
          "text": [
            "2\n",
            "3\n",
            "4\n",
            "5\n",
            "6\n",
            "7\n",
            "8\n",
            "9\n",
            "10\n"
          ],
          "name": "stdout"
        }
      ]
    },
    {
      "cell_type": "code",
      "metadata": {
        "id": "gfHnBAgTfaKF",
        "colab": {
          "base_uri": "https://localhost:8080/"
        },
        "outputId": "37a5a1a5-0089-4ab3-ad55-a3de5aa2c8cf"
      },
      "source": [
        "for i in range(1,6):\n",
        "  print(i)"
      ],
      "execution_count": null,
      "outputs": [
        {
          "output_type": "stream",
          "text": [
            "1\n",
            "2\n",
            "3\n",
            "4\n",
            "5\n"
          ],
          "name": "stdout"
        }
      ]
    },
    {
      "cell_type": "code",
      "metadata": {
        "id": "qrB3-rnMyCt-"
      },
      "source": [
        "from scipy.stats import poisson\n",
        "poisson?\n"
      ],
      "execution_count": null,
      "outputs": []
    },
    {
      "cell_type": "code",
      "metadata": {
        "colab": {
          "base_uri": "https://localhost:8080/"
        },
        "id": "VNf94INq0W_q",
        "outputId": "c2aec9f3-ed79-48ab-9662-9adb47f63357"
      },
      "source": [
        "poisson.pmf(5,2.5)"
      ],
      "execution_count": null,
      "outputs": [
        {
          "output_type": "execute_result",
          "data": {
            "text/plain": [
              "0.06680094289054267"
            ]
          },
          "metadata": {
            "tags": []
          },
          "execution_count": 3
        }
      ]
    },
    {
      "cell_type": "code",
      "metadata": {
        "id": "SfXx1b8Q0fU4"
      },
      "source": [
        "import math\n",
        "e= 2.71828\n",
        "x=2.5\n",
        "y=5\n",
        "p= ((x**y)*(e**-x))/math.factorial(y)"
      ],
      "execution_count": null,
      "outputs": []
    },
    {
      "cell_type": "code",
      "metadata": {
        "colab": {
          "base_uri": "https://localhost:8080/"
        },
        "id": "L-3qCups0zHa",
        "outputId": "b89f6787-0596-4ed7-ebdb-5cd4ab9ccdef"
      },
      "source": [
        "p"
      ],
      "execution_count": null,
      "outputs": [
        {
          "output_type": "execute_result",
          "data": {
            "text/plain": [
              "0.06680105522522659"
            ]
          },
          "metadata": {
            "tags": []
          },
          "execution_count": 6
        }
      ]
    },
    {
      "cell_type": "code",
      "metadata": {
        "colab": {
          "base_uri": "https://localhost:8080/"
        },
        "id": "-uS2Ic8e01we",
        "outputId": "bbc55bd9-adb6-4845-96c2-aa9cb7e04422"
      },
      "source": [
        "math.exp(-2.5)"
      ],
      "execution_count": null,
      "outputs": [
        {
          "output_type": "execute_result",
          "data": {
            "text/plain": [
              "0.0820849986238988"
            ]
          },
          "metadata": {
            "tags": []
          },
          "execution_count": 7
        }
      ]
    },
    {
      "cell_type": "code",
      "metadata": {
        "id": "Ce1MhZvk1Tbh"
      },
      "source": [
        "import math\n",
        "Z=(9800-(105*49))/((math.sqrt(49))*15)"
      ],
      "execution_count": null,
      "outputs": []
    },
    {
      "cell_type": "code",
      "metadata": {
        "colab": {
          "base_uri": "https://localhost:8080/"
        },
        "id": "fuw612giniiI",
        "outputId": "569fb251-8f13-421b-ac6e-88c2e2cfb8bc"
      },
      "source": [
        "p=0.5*(1 + math.erf(Z/(math.sqrt(2))))\n",
        "p"
      ],
      "execution_count": null,
      "outputs": [
        {
          "output_type": "execute_result",
          "data": {
            "text/plain": [
              "1.0"
            ]
          },
          "metadata": {
            "tags": []
          },
          "execution_count": 4
        }
      ]
    },
    {
      "cell_type": "code",
      "metadata": {
        "colab": {
          "base_uri": "https://localhost:8080/"
        },
        "id": "EkJPFTO_nrHg",
        "outputId": "c9a46479-88bc-48bd-83a6-4e22a77b4653"
      },
      "source": [
        "Z/(math.sqrt(2))"
      ],
      "execution_count": null,
      "outputs": [
        {
          "output_type": "execute_result",
          "data": {
            "text/plain": [
              "31.348400632603607"
            ]
          },
          "metadata": {
            "tags": []
          },
          "execution_count": 6
        }
      ]
    },
    {
      "cell_type": "markdown",
      "metadata": {
        "id": "JqNQEfGsW_a_"
      },
      "source": [
        "**XOR**"
      ]
    },
    {
      "cell_type": "code",
      "metadata": {
        "id": "YtDUpQ5unwBa"
      },
      "source": [
        "def xor(n: int, start: int):\n",
        "  res=[]\n",
        "  j=1\n",
        "  for i in range(n):\n",
        "    res.append(start+2*i)\n",
        "  for e in res:\n",
        "    j=j^e\n",
        "  print(j)"
      ],
      "execution_count": 1,
      "outputs": []
    },
    {
      "cell_type": "code",
      "metadata": {
        "colab": {
          "base_uri": "https://localhost:8080/"
        },
        "id": "b6FN2NudW8_0",
        "outputId": "49337951-0a57-4859-83fd-80f09f7c59cc"
      },
      "source": [
        "xor(5,0)"
      ],
      "execution_count": 2,
      "outputs": [
        {
          "output_type": "stream",
          "text": [
            "9\n"
          ],
          "name": "stdout"
        }
      ]
    },
    {
      "cell_type": "code",
      "metadata": {
        "id": "2YOxdATdW-vz"
      },
      "source": [
        ""
      ],
      "execution_count": null,
      "outputs": []
    }
  ]
}