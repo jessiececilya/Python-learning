{
  "nbformat": 4,
  "nbformat_minor": 0,
  "metadata": {
    "colab": {
      "name": "Soring algorithms",
      "provenance": [],
      "collapsed_sections": []
    },
    "kernelspec": {
      "name": "python3",
      "display_name": "Python 3"
    },
    "language_info": {
      "name": "python"
    }
  },
  "cells": [
    {
      "cell_type": "code",
      "metadata": {
        "id": "hgXrq_1YEtvk"
      },
      "source": [
        "a=[1,4,23,2,45,5,65,23]"
      ],
      "execution_count": null,
      "outputs": []
    },
    {
      "cell_type": "markdown",
      "metadata": {
        "id": "GsnntDR3FBcX"
      },
      "source": [
        "**Bubble sort**\n",
        "\n",
        "Non reccursive, Stable, Inplace, Simplest\n",
        "\n"
      ]
    },
    {
      "cell_type": "code",
      "metadata": {
        "colab": {
          "base_uri": "https://localhost:8080/"
        },
        "id": "tuTkac0RFHtS",
        "outputId": "7af5bce5-8619-46e6-a36d-f11a3dd561f3"
      },
      "source": [
        "def bubbleSort(array):\n",
        "    swapped = False\n",
        "    for i in range(len(array)-1,0,-1):\n",
        "        for j in range(i):\n",
        "            if array[j]>array[j+1]:\n",
        "                array[j], array[j+1] = array[j+1], array[j]\n",
        "                swapped= True\n",
        "        if swapped:\n",
        "            swapped=False\n",
        "        else:\n",
        "            break\n",
        "    return array\n",
        "\n",
        "bubbleSort(a)"
      ],
      "execution_count": null,
      "outputs": [
        {
          "output_type": "execute_result",
          "data": {
            "text/plain": [
              "[1, 2, 4, 5, 23, 23, 45, 65]"
            ]
          },
          "metadata": {
            "tags": []
          },
          "execution_count": 3
        }
      ]
    },
    {
      "cell_type": "code",
      "metadata": {
        "id": "K-dwfrmRHymt"
      },
      "source": [
        "#Selection sort\n",
        "def selectionSort(array):\n",
        "    for i in range(len(array)-1):\n",
        "        min_idx = i\n",
        "        for idx in range(i + 1, len(array)-1):\n",
        "            if array[idx] < array[min_idx]:\n",
        "                min_idx = idx\n",
        "        array[i], array[min_idx] = array[min_idx], array[i]\n",
        "    return array"
      ],
      "execution_count": null,
      "outputs": []
    },
    {
      "cell_type": "code",
      "metadata": {
        "id": "GfddsDROFIH8"
      },
      "source": [
        "#insertion sort\n",
        "def insertionSort(array):\n",
        "    for i in range(1, len(array)):\n",
        "        key = array[i]\n",
        "        j = i-1\n",
        "        while array[j] > key and j >= 0:\n",
        "            array[j+1] = array[j]\n",
        "            j -= 1\n",
        "        array[j+1] = key\n",
        "    return array"
      ],
      "execution_count": null,
      "outputs": []
    },
    {
      "cell_type": "code",
      "metadata": {
        "id": "6Xc8mkz4FjPr"
      },
      "source": [
        "#Shell sort\n",
        "def shellSort(array):\n",
        "    n = len(array)\n",
        "    k = int(math.log2(n))\n",
        "    interval = 2**k -1\n",
        "    while interval > 0:\n",
        "        for i in range(interval, n):\n",
        "            temp = array[i]\n",
        "            j = i\n",
        "            while j >= interval and array[j - interval] > temp:\n",
        "                array[j] = array[j - interval]\n",
        "                j -= interval\n",
        "            array[j] = temp\n",
        "        k -= 1\n",
        "        interval = 2**k -1\n",
        "    return array"
      ],
      "execution_count": null,
      "outputs": []
    },
    {
      "cell_type": "code",
      "metadata": {
        "id": "gweg9-M2Z2Wh"
      },
      "source": [
        "#heapsort\n",
        "def heapify(array, n, i):\n",
        "    largest = i\n",
        "    l = 2 * i + 1\n",
        "    r = 2 * i + 2\n",
        "    \n",
        "    if l < n and array[i] < array[l]:\n",
        "        largest = l\n",
        "    if r < n and array[largest] < array[r]:\n",
        "        largest = r\n",
        "    \n",
        "    if largest != i:\n",
        "        array[i], array[largest] = array[largest], array[i]\n",
        "        heapify(array, n, largest)\n",
        "        \n",
        "def heapSort(array):\n",
        "    n = len(array)\n",
        "    for i in range(n//2, -1, -1):\n",
        "        heapify(array, n, i)\n",
        "    for i in range(n-1, 0, -1):\n",
        "        array[i], array[0] = array[0], array[i]\n",
        "        heapify(array, i, 0)\n",
        "    return array"
      ],
      "execution_count": null,
      "outputs": []
    },
    {
      "cell_type": "code",
      "metadata": {
        "id": "neujUKrBZ5Ot"
      },
      "source": [
        "#Mergesort\n",
        "def mergeSort(nums):\n",
        "    if len(nums)==1:\n",
        "        return nums\n",
        "    mid = (len(nums)-1) // 2\n",
        "    lst1 = mergeSort(nums[:mid+1])\n",
        "    lst2 = mergeSort(nums[mid+1:])\n",
        "    result = merge(lst1, lst2)\n",
        "    return result\n",
        "def merge(lst1, lst2):\n",
        "    lst = []\n",
        "    i = 0\n",
        "    j = 0\n",
        "    while(i<=len(lst1)-1 and j<=len(lst2)-1):\n",
        "        if lst1[i]<lst2[j]:\n",
        "            lst.append(lst1[i])\n",
        "            i+=1\n",
        "        else:\n",
        "            lst.append(lst2[j])\n",
        "            j+=1\n",
        "    if i>len(lst1)-1:\n",
        "        while(j<=len(lst2)-1):\n",
        "            lst.append(lst2[j])\n",
        "            j+=1\n",
        "    else:\n",
        "        while(i<=len(lst1)-1):\n",
        "            lst.append(lst1[i])\n",
        "            i+=1\n",
        "    return lst"
      ],
      "execution_count": null,
      "outputs": []
    },
    {
      "cell_type": "code",
      "metadata": {
        "id": "h9YqgKRJZ9RS"
      },
      "source": [
        "#Quick sort\n",
        "def quickSort(array):\n",
        "    if len(array)> 1:\n",
        "        pivot=array.pop()\n",
        "        grtr_lst, equal_lst, smlr_lst = [], [pivot], []\n",
        "        for item in array:\n",
        "            if item == pivot:\n",
        "                equal_lst.append(item)\n",
        "            elif item > pivot:\n",
        "                grtr_lst.append(item)\n",
        "            else:\n",
        "                smlr_lst.append(item)\n",
        "        return (quickSort(smlr_lst) + equal_lst + quickSort(grtr_lst))\n",
        "    else:\n",
        "        return array"
      ],
      "execution_count": null,
      "outputs": []
    },
    {
      "cell_type": "code",
      "metadata": {
        "colab": {
          "base_uri": "https://localhost:8080/",
          "height": 233
        },
        "id": "2ZqO6AdKaAUk",
        "outputId": "b7d2ba0a-7928-428e-d5d5-71bb498e237c"
      },
      "source": [
        "#count sort\n",
        "def sortArray(self, nums: list[int]) -> List[int]:\n",
        "    i_lower_bound , upper_bound = min(nums), max(nums)\n",
        "    lower_bound = i_lower_bound\n",
        "    if i_lower_bound < 0:\n",
        "        lb = abs(i_lower_bound)\n",
        "        nums = [item + lb for item in nums]\n",
        "        lower_bound , upper_bound = min(nums), max(nums)\n",
        "    \n",
        "    counter_nums = [0]*(upper_bound-lower_bound+1)\n",
        "    for item in nums:\n",
        "        counter_nums[item-lower_bound] += 1\n",
        "    pos = 0\n",
        "    for idx, item in enumerate(counter_nums):\n",
        "        num = idx + lower_bound\n",
        "        for i in range(item):\n",
        "            nums[pos] = num\n",
        "            pos += 1\n",
        "    if i_lower_bound < 0:\n",
        "        lb = abs(i_lower_bound)\n",
        "        nums = [item - lb for item in nums]\n",
        "    return nums"
      ],
      "execution_count": null,
      "outputs": [
        {
          "output_type": "error",
          "ename": "TypeError",
          "evalue": "ignored",
          "traceback": [
            "\u001b[0;31m---------------------------------------------------------------------------\u001b[0m",
            "\u001b[0;31mTypeError\u001b[0m                                 Traceback (most recent call last)",
            "\u001b[0;32m<ipython-input-14-46a836eb03b6>\u001b[0m in \u001b[0;36m<module>\u001b[0;34m()\u001b[0m\n\u001b[1;32m      1\u001b[0m \u001b[0;31m#count sort\u001b[0m\u001b[0;34m\u001b[0m\u001b[0;34m\u001b[0m\u001b[0;34m\u001b[0m\u001b[0m\n\u001b[0;32m----> 2\u001b[0;31m \u001b[0;32mdef\u001b[0m \u001b[0msortArray\u001b[0m\u001b[0;34m(\u001b[0m\u001b[0mself\u001b[0m\u001b[0;34m,\u001b[0m \u001b[0mnums\u001b[0m\u001b[0;34m:\u001b[0m \u001b[0mlist\u001b[0m\u001b[0;34m[\u001b[0m\u001b[0mint\u001b[0m\u001b[0;34m]\u001b[0m\u001b[0;34m)\u001b[0m \u001b[0;34m->\u001b[0m \u001b[0mList\u001b[0m\u001b[0;34m[\u001b[0m\u001b[0mint\u001b[0m\u001b[0;34m]\u001b[0m\u001b[0;34m:\u001b[0m\u001b[0;34m\u001b[0m\u001b[0;34m\u001b[0m\u001b[0m\n\u001b[0m\u001b[1;32m      3\u001b[0m     \u001b[0mi_lower_bound\u001b[0m \u001b[0;34m,\u001b[0m \u001b[0mupper_bound\u001b[0m \u001b[0;34m=\u001b[0m \u001b[0mmin\u001b[0m\u001b[0;34m(\u001b[0m\u001b[0mnums\u001b[0m\u001b[0;34m)\u001b[0m\u001b[0;34m,\u001b[0m \u001b[0mmax\u001b[0m\u001b[0;34m(\u001b[0m\u001b[0mnums\u001b[0m\u001b[0;34m)\u001b[0m\u001b[0;34m\u001b[0m\u001b[0;34m\u001b[0m\u001b[0m\n\u001b[1;32m      4\u001b[0m     \u001b[0mlower_bound\u001b[0m \u001b[0;34m=\u001b[0m \u001b[0mi_lower_bound\u001b[0m\u001b[0;34m\u001b[0m\u001b[0;34m\u001b[0m\u001b[0m\n\u001b[1;32m      5\u001b[0m     \u001b[0;32mif\u001b[0m \u001b[0mi_lower_bound\u001b[0m \u001b[0;34m<\u001b[0m \u001b[0;36m0\u001b[0m\u001b[0;34m:\u001b[0m\u001b[0;34m\u001b[0m\u001b[0;34m\u001b[0m\u001b[0m\n",
            "\u001b[0;31mTypeError\u001b[0m: 'type' object is not subscriptable"
          ]
        }
      ]
    },
    {
      "cell_type": "code",
      "metadata": {
        "id": "5A0VHnipaDIt"
      },
      "source": [
        ""
      ],
      "execution_count": null,
      "outputs": []
    }
  ]
}