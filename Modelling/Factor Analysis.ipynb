{
 "cells": [
  {
   "cell_type": "code",
   "execution_count": 29,
   "metadata": {},
   "outputs": [],
   "source": [
    "import pandas as pd\n",
    "from sklearn.datasets import load_iris\n",
    "from factor_analyzer import FactorAnalyzer\n",
    "import matplotlib.pyplot as plt"
   ]
  },
  {
   "cell_type": "code",
   "execution_count": 113,
   "metadata": {},
   "outputs": [],
   "source": [
    "df= pd.read_csv(\"bfi.csv\")"
   ]
  },
  {
   "cell_type": "code",
   "execution_count": 114,
   "metadata": {},
   "outputs": [],
   "source": [
    "df.drop(['gender', 'education', 'age'],axis=1,inplace=True)"
   ]
  },
  {
   "cell_type": "code",
   "execution_count": 115,
   "metadata": {},
   "outputs": [],
   "source": [
    "df.dropna(inplace=True)"
   ]
  },
  {
   "cell_type": "code",
   "execution_count": 116,
   "metadata": {},
   "outputs": [
    {
     "name": "stdout",
     "output_type": "stream",
     "text": [
      "<class 'pandas.core.frame.DataFrame'>\n",
      "Int64Index: 2436 entries, 0 to 2799\n",
      "Data columns (total 26 columns):\n",
      " #   Column      Non-Null Count  Dtype  \n",
      "---  ------      --------------  -----  \n",
      " 0   Unnamed: 0  2436 non-null   int64  \n",
      " 1   A1          2436 non-null   float64\n",
      " 2   A2          2436 non-null   float64\n",
      " 3   A3          2436 non-null   float64\n",
      " 4   A4          2436 non-null   float64\n",
      " 5   A5          2436 non-null   float64\n",
      " 6   C1          2436 non-null   float64\n",
      " 7   C2          2436 non-null   float64\n",
      " 8   C3          2436 non-null   float64\n",
      " 9   C4          2436 non-null   float64\n",
      " 10  C5          2436 non-null   float64\n",
      " 11  E1          2436 non-null   float64\n",
      " 12  E2          2436 non-null   float64\n",
      " 13  E3          2436 non-null   float64\n",
      " 14  E4          2436 non-null   float64\n",
      " 15  E5          2436 non-null   float64\n",
      " 16  N1          2436 non-null   float64\n",
      " 17  N2          2436 non-null   float64\n",
      " 18  N3          2436 non-null   float64\n",
      " 19  N4          2436 non-null   float64\n",
      " 20  N5          2436 non-null   float64\n",
      " 21  O1          2436 non-null   float64\n",
      " 22  O2          2436 non-null   int64  \n",
      " 23  O3          2436 non-null   float64\n",
      " 24  O4          2436 non-null   float64\n",
      " 25  O5          2436 non-null   float64\n",
      "dtypes: float64(24), int64(2)\n",
      "memory usage: 513.8 KB\n"
     ]
    }
   ],
   "source": [
    "df.info()"
   ]
  },
  {
   "cell_type": "code",
   "execution_count": 16,
   "metadata": {},
   "outputs": [
    {
     "data": {
      "text/plain": [
       "(18210.199553924962, 0.0)"
      ]
     },
     "execution_count": 16,
     "metadata": {},
     "output_type": "execute_result"
    }
   ],
   "source": [
    "# Perform Barlett's test to check if there exists inter correlation\n",
    "from factor_analyzer.factor_analyzer import calculate_bartlett_sphericity\n",
    "chi_square_value,p_value=calculate_bartlett_sphericity(df)\n",
    "chi_square_value, p_value\n",
    "#p value 0 indicating, there is no intercorrelation and we can do FA"
   ]
  },
  {
   "cell_type": "code",
   "execution_count": 17,
   "metadata": {},
   "outputs": [],
   "source": [
    "# Perform KMO test, to check adequacy of factors to perform FA, If KMO<0.6 no FA\n",
    "from factor_analyzer.factor_analyzer import calculate_kmo\n",
    "kmo_all,kmo_model=calculate_kmo(df)"
   ]
  },
  {
   "cell_type": "code",
   "execution_count": 18,
   "metadata": {
    "scrolled": true
   },
   "outputs": [
    {
     "data": {
      "text/plain": [
       "0.8482210116350438"
      ]
     },
     "execution_count": 18,
     "metadata": {},
     "output_type": "execute_result"
    }
   ],
   "source": [
    "kmo_model"
   ]
  },
  {
   "cell_type": "code",
   "execution_count": 19,
   "metadata": {},
   "outputs": [],
   "source": [
    "# KMO value >0.6 indicating factors are adequate and hence can do FA"
   ]
  },
  {
   "cell_type": "code",
   "execution_count": 109,
   "metadata": {},
   "outputs": [
    {
     "data": {
      "text/plain": [
       "array([5.13457985, 2.75337527, 2.14814212, 1.85250623, 1.54846254,\n",
       "       1.11066151, 0.98067695, 0.82430872, 0.79516217, 0.71828982,\n",
       "       0.68602566, 0.67614851, 0.65177562, 0.62297416, 0.59623084,\n",
       "       0.56244599, 0.54329886, 0.51434031, 0.49437154, 0.48263949,\n",
       "       0.44865495, 0.42280589, 0.40028481, 0.38773757, 0.38183723,\n",
       "       0.2622634 ])"
      ]
     },
     "execution_count": 109,
     "metadata": {},
     "output_type": "execute_result"
    }
   ],
   "source": [
    "# Create factor analysis object and perform factor analysis\n",
    "fa = FactorAnalyzer(n_factors=25,rotation= None)\n",
    "\n",
    "fa.fit(df)\n",
    "\n",
    "#Check Eigen values\n",
    "ev,v = fa.get_eigenvalues()\n",
    "\n",
    "\n",
    "ev"
   ]
  },
  {
   "cell_type": "code",
   "execution_count": 94,
   "metadata": {},
   "outputs": [],
   "source": [
    "# Six factors have Eigen values >1, so choose only those"
   ]
  },
  {
   "cell_type": "code",
   "execution_count": 95,
   "metadata": {},
   "outputs": [
    {
     "data": {
      "image/png": "[encoded data removed]",
      "text/plain": [
       "<Figure size 432x288 with 1 Axes>"
      ]
     },
     "metadata": {
      "needs_background": "light"
     },
     "output_type": "display_data"
    }
   ],
   "source": [
    "# Create scree plot using matplotlib\n",
    "plt.scatter(range(1,df.shape[1]+1),ev)\n",
    "plt.plot(range(1,df.shape[1]+1),ev)\n",
    "plt.title('Scree Plot')\n",
    "plt.xlabel('Factors')\n",
    "plt.ylabel('Eigenvalue')\n",
    "plt.grid()\n",
    "plt.show()"
   ]
  },
  {
   "cell_type": "code",
   "execution_count": 117,
   "metadata": {},
   "outputs": [
    {
     "data": {
      "text/plain": [
       "FactorAnalyzer(n_factors=6, rotation='varimax', rotation_kwargs={})"
      ]
     },
     "execution_count": 117,
     "metadata": {},
     "output_type": "execute_result"
    }
   ],
   "source": [
    "# Create factor analysis object and perform factor analysis\n",
    "fa = FactorAnalyzer(n_factors=6,rotation= 'varimax')\n",
    "fa.fit(df)\n"
   ]
  },
  {
   "cell_type": "code",
   "execution_count": 128,
   "metadata": {},
   "outputs": [
    {
     "data": {
      "text/plain": [
       "array([[-0.01924556, -0.06170286,  0.0348648 , -0.01867751,  0.0143449 ],\n",
       "       [ 0.1064546 ,  0.0307053 ,  0.02756749, -0.42961248, -0.07413314],\n",
       "       [ 0.02869339,  0.22712712,  0.14115892,  0.62180104,  0.0641174 ],\n",
       "       [ 0.0053354 ,  0.32992706,  0.11592822,  0.64285597,  0.06164725],\n",
       "       [-0.06944324,  0.2092169 ,  0.23541803,  0.43124101, -0.10864741],\n",
       "       [-0.12900241,  0.39769001,  0.09790092,  0.52815947,  0.0753634 ],\n",
       "       [ 0.00954751,  0.04829695,  0.54827569,  0.04119434,  0.21216878],\n",
       "       [ 0.08997526,  0.01445863,  0.65030388,  0.10569283,  0.11658219],\n",
       "       [-0.03024319,  0.01082522,  0.55578126,  0.11416497, -0.00481157],\n",
       "       [ 0.24079401, -0.03932582, -0.63357583, -0.04146169, -0.1096952 ],\n",
       "       [ 0.29433007, -0.15417946, -0.56699105, -0.04785845,  0.03126425],\n",
       "       [ 0.05706633, -0.57646013,  0.01718243, -0.08965972, -0.07321838],\n",
       "       [ 0.2616608 , -0.67156053, -0.12149036, -0.09678776, -0.05968008],\n",
       "       [ 0.01241719,  0.53305616,  0.09762393,  0.24574113,  0.29388278],\n",
       "       [-0.13102573,  0.64875005,  0.12049501,  0.29006877, -0.05698468],\n",
       "       [ 0.02432691,  0.49253433,  0.32663881,  0.079579  ,  0.2265375 ],\n",
       "       [ 0.78272568,  0.09767984, -0.04238834, -0.22505965, -0.0834706 ],\n",
       "       [ 0.7524199 ,  0.04493476, -0.02954695, -0.20053909, -0.01094506],\n",
       "       [ 0.73257146, -0.04106614, -0.06834851, -0.03184851, -0.0072839 ],\n",
       "       [ 0.59963482, -0.32610163, -0.18899936,  0.01019068,  0.06465926],\n",
       "       [ 0.54204287, -0.13932631, -0.0420651 ,  0.10022914, -0.15565296],\n",
       "       [-0.00609419,  0.19646268,  0.12086297,  0.05957344,  0.51064181],\n",
       "       [ 0.1747347 ,  0.02676212, -0.09912926,  0.07736822, -0.46963752],\n",
       "       [ 0.02110565,  0.29624285,  0.08470956,  0.12236933,  0.60357183],\n",
       "       [ 0.22782642, -0.18928948, -0.02935289,  0.16078712,  0.3622553 ],\n",
       "       [ 0.08361937,  0.0115903 , -0.06135691, -0.01397359, -0.53340144]])"
      ]
     },
     "execution_count": 128,
     "metadata": {},
     "output_type": "execute_result"
    }
   ],
   "source": [
    "fa.loadings_\n",
    "#Each factor has high loadings of a list of variables\n",
    "#Fac 6 doesn't have any high loadings so 5 factors should be enough to perform analysis"
   ]
  },
  {
   "cell_type": "code",
   "execution_count": 125,
   "metadata": {},
   "outputs": [
    {
     "data": {
      "text/plain": [
       "FactorAnalyzer(n_factors=5, rotation='varimax', rotation_kwargs={})"
      ]
     },
     "execution_count": 125,
     "metadata": {},
     "output_type": "execute_result"
    }
   ],
   "source": [
    "fa = FactorAnalyzer(n_factors=5,rotation= 'varimax')\n",
    "fa.fit(df)"
   ]
  },
  {
   "cell_type": "code",
   "execution_count": 126,
   "metadata": {},
   "outputs": [
    {
     "data": {
      "text/plain": [
       "array([[-0.01924556, -0.06170286,  0.0348648 , -0.01867751,  0.0143449 ],\n",
       "       [ 0.1064546 ,  0.0307053 ,  0.02756749, -0.42961248, -0.07413314],\n",
       "       [ 0.02869339,  0.22712712,  0.14115892,  0.62180104,  0.0641174 ],\n",
       "       [ 0.0053354 ,  0.32992706,  0.11592822,  0.64285597,  0.06164725],\n",
       "       [-0.06944324,  0.2092169 ,  0.23541803,  0.43124101, -0.10864741],\n",
       "       [-0.12900241,  0.39769001,  0.09790092,  0.52815947,  0.0753634 ],\n",
       "       [ 0.00954751,  0.04829695,  0.54827569,  0.04119434,  0.21216878],\n",
       "       [ 0.08997526,  0.01445863,  0.65030388,  0.10569283,  0.11658219],\n",
       "       [-0.03024319,  0.01082522,  0.55578126,  0.11416497, -0.00481157],\n",
       "       [ 0.24079401, -0.03932582, -0.63357583, -0.04146169, -0.1096952 ],\n",
       "       [ 0.29433007, -0.15417946, -0.56699105, -0.04785845,  0.03126425],\n",
       "       [ 0.05706633, -0.57646013,  0.01718243, -0.08965972, -0.07321838],\n",
       "       [ 0.2616608 , -0.67156053, -0.12149036, -0.09678776, -0.05968008],\n",
       "       [ 0.01241719,  0.53305616,  0.09762393,  0.24574113,  0.29388278],\n",
       "       [-0.13102573,  0.64875005,  0.12049501,  0.29006877, -0.05698468],\n",
       "       [ 0.02432691,  0.49253433,  0.32663881,  0.079579  ,  0.2265375 ],\n",
       "       [ 0.78272568,  0.09767984, -0.04238834, -0.22505965, -0.0834706 ],\n",
       "       [ 0.7524199 ,  0.04493476, -0.02954695, -0.20053909, -0.01094506],\n",
       "       [ 0.73257146, -0.04106614, -0.06834851, -0.03184851, -0.0072839 ],\n",
       "       [ 0.59963482, -0.32610163, -0.18899936,  0.01019068,  0.06465926],\n",
       "       [ 0.54204287, -0.13932631, -0.0420651 ,  0.10022914, -0.15565296],\n",
       "       [-0.00609419,  0.19646268,  0.12086297,  0.05957344,  0.51064181],\n",
       "       [ 0.1747347 ,  0.02676212, -0.09912926,  0.07736822, -0.46963752],\n",
       "       [ 0.02110565,  0.29624285,  0.08470956,  0.12236933,  0.60357183],\n",
       "       [ 0.22782642, -0.18928948, -0.02935289,  0.16078712,  0.3622553 ],\n",
       "       [ 0.08361937,  0.0115903 , -0.06135691, -0.01397359, -0.53340144]])"
      ]
     },
     "execution_count": 126,
     "metadata": {},
     "output_type": "execute_result"
    }
   ],
   "source": [
    "fa.loadings_"
   ]
  },
  {
   "cell_type": "code",
   "execution_count": 129,
   "metadata": {},
   "outputs": [
    {
     "data": {
      "text/plain": [
       "(array([2.7361091 , 2.42804922, 2.08250384, 1.80050523, 1.54950195]),\n",
       " array([0.10523497, 0.09338651, 0.0800963 , 0.0692502 , 0.05959623]),\n",
       " array([0.10523497, 0.19862147, 0.27871778, 0.34796798, 0.40756421]))"
      ]
     },
     "execution_count": 129,
     "metadata": {},
     "output_type": "execute_result"
    }
   ],
   "source": [
    "# Get variance of each factors\n",
    "fa.get_factor_variance()\n",
    "\n",
    "#SS Loadings\n",
    "#Proportional Variance\n",
    "#Cumulative variance"
   ]
  },
  {
   "cell_type": "markdown",
   "metadata": {},
   "source": []
  },
  {
   "cell_type": "code",
   "execution_count": null,
   "metadata": {},
   "outputs": [],
   "source": [
    "#40.7% cumulative variance is explained by 5 factors"
   ]
  }
 ],
 "metadata": {
  "kernelspec": {
   "display_name": "Python 3",
   "language": "python",
   "name": "python3"
  },
  "language_info": {
   "codemirror_mode": {
    "name": "ipython",
    "version": 3
   },
   "file_extension": ".py",
   "mimetype": "text/x-python",
   "name": "python",
   "nbconvert_exporter": "python",
   "pygments_lexer": "ipython3",
   "version": "3.8.3"
  }
 },
 "nbformat": 4,
 "nbformat_minor": 4
}
