{
 "cells": [
  {
   "cell_type": "markdown",
   "metadata": {},
   "source": [
    "# Question 3.1"
   ]
  },
  {
   "cell_type": "code",
   "execution_count": 2,
   "metadata": {},
   "outputs": [
    {
     "data": {
      "text/plain": [
       "(array(2.5), array(1.25))"
      ]
     },
     "execution_count": 2,
     "metadata": {},
     "output_type": "execute_result"
    }
   ],
   "source": [
    "import itertools\n",
    "import numpy as np\n",
    "import matplotlib.pyplot as plt\n",
    "import seaborn as sns\n",
    "from scipy.stats import binom\n",
    "binom.stats(n=5,p=0.5)"
   ]
  },
  {
   "cell_type": "code",
   "execution_count": 6,
   "metadata": {},
   "outputs": [
    {
     "name": "stdout",
     "output_type": "stream",
     "text": [
      "[1 0 0 0 1]\n",
      "9\n"
     ]
    }
   ],
   "source": [
    "\n",
    "def coinFlip(p):    \n",
    "    #perform the binomial distribution (returns 0 or 1)    \n",
    "    result = np.random.binomial(1,p)\n",
    "#return flip to be added to numpy array    \n",
    "    return result\n",
    "probability = (0.5)\n",
    "n = 5\n",
    "total=0\n",
    "fullResults = np.arange(n)\n",
    "for i in range(0, n):    \n",
    "    fullResults[i] = coinFlip(probability)\n",
    "    i+=1\n",
    "\n",
    "for i in range (0,n):\n",
    "    #total=0\n",
    "    if fullResults[i]==0:\n",
    "        total=total* 2\n",
    "    else:\n",
    "        total=1+total*1\n",
    "    i+=1\n",
    "print(fullResults)\n",
    "print(total)"
   ]
  },
  {
   "cell_type": "markdown",
   "metadata": {},
   "source": [
    "# Question 3.2"
   ]
  },
  {
   "cell_type": "code",
   "execution_count": 5,
   "metadata": {},
   "outputs": [
    {
     "data": {
      "text/plain": [
       "(array(7.5), array(3.75))"
      ]
     },
     "execution_count": 5,
     "metadata": {},
     "output_type": "execute_result"
    }
   ],
   "source": [
    "binom.stats(n=15,p=0.5)"
   ]
  },
  {
   "cell_type": "code",
   "execution_count": 20,
   "metadata": {},
   "outputs": [
    {
     "name": "stdout",
     "output_type": "stream",
     "text": [
      "[0 0 1 0 0 0 1 0 1 1 0 1 1 1 0]\n",
      "86\n"
     ]
    }
   ],
   "source": [
    "def coinFlip(p):    \n",
    "    #perform the binomial distribution (returns 0 or 1)    \n",
    "    result = np.random.binomial(1,p)\n",
    "#return flip to be added to numpy array    \n",
    "    return result\n",
    "probability = (0.5)\n",
    "n = 15\n",
    "total=0\n",
    "fullResults = np.arange(n)\n",
    "for i in range(0, n):    \n",
    "    fullResults[i] = coinFlip(probability)\n",
    "    i+=1\n",
    "\n",
    "for i in range (0,n):\n",
    "    #total=0\n",
    "    if fullResults[i]==0:\n",
    "        total=total* 2\n",
    "    else:\n",
    "        total=1+total*1\n",
    "    i+=1\n",
    "print(fullResults)\n",
    "print(total)"
   ]
  },
  {
   "cell_type": "markdown",
   "metadata": {},
   "source": [
    "# Question 3.3"
   ]
  },
  {
   "cell_type": "code",
   "execution_count": 27,
   "metadata": {},
   "outputs": [
    {
     "name": "stdout",
     "output_type": "stream",
     "text": [
      "Totals that is Power of two 0.07421875\n"
     ]
    }
   ],
   "source": [
    "import itertools\n",
    "lst = list(itertools.product([0, 1], repeat=10))\n",
    "\n",
    "#total=0\n",
    "count=0\n",
    "\n",
    "def isPowerOfTwo(n):\n",
    "    if (n == 0 or n == 1):\n",
    "        return False\n",
    "    while (n != 1):\n",
    "            if (n % 2 != 0):\n",
    "                return False\n",
    "            n = n // 2\n",
    "            \n",
    "    return True\n",
    "\n",
    "for i in range (0,(len(lst))):\n",
    "    total=0    \n",
    "    for j in range (0, (len(lst[i]))):\n",
    "        if (lst[i][j])==0:\n",
    "            total=total* 2\n",
    "        else:\n",
    "            total=1+total*1\n",
    "        j+=1\n",
    "    arr.append(total)\n",
    "   \n",
    "    z= isPowerOfTwo(total)\n",
    "    if z==True:\n",
    "        count+=1\n",
    "    i+=1\n",
    "#print(arr)\n",
    "print( \"Totals that is Power of two\", count/(2**10))\n",
    "\n"
   ]
  },
  {
   "cell_type": "markdown",
   "metadata": {},
   "source": [
    "# Question 3.4"
   ]
  },
  {
   "cell_type": "code",
   "execution_count": 22,
   "metadata": {},
   "outputs": [
    {
     "name": "stdout",
     "output_type": "stream",
     "text": [
      "55.583904310131445\n"
     ]
    }
   ],
   "source": [
    "lst = list(itertools.product([0, 1], repeat=10))\n",
    "\n",
    "count=0\n",
    "arr = []\n",
    "for i in range (0,(len(lst))):\n",
    "    total=0\n",
    "    for j in range (0, (len(lst[i]))):\n",
    "        if (lst[i][j])==0:\n",
    "            total=total* 2\n",
    "        else:\n",
    "            total=1+total*1\n",
    "        j+=1\n",
    "    arr.append(total)\n",
    "    #print(total)\n",
    "    \n",
    "    \n",
    "#print(arr)\n",
    "print(np.std(arr,dtype=np.float64))"
   ]
  },
  {
   "cell_type": "markdown",
   "metadata": {},
   "source": [
    "# Question 3.5"
   ]
  },
  {
   "cell_type": "code",
   "execution_count": 24,
   "metadata": {},
   "outputs": [
    {
     "data": {
      "text/plain": [
       "0.8964007672910594"
      ]
     },
     "execution_count": 24,
     "metadata": {},
     "output_type": "execute_result"
    }
   ],
   "source": [
    "data_binom = binom.rvs(n=5,p=0.8,loc=0,size=100000)\n",
    "data_binom.std()"
   ]
  },
  {
   "cell_type": "markdown",
   "metadata": {},
   "source": [
    "# Question 3.7"
   ]
  },
  {
   "cell_type": "code",
   "execution_count": 25,
   "metadata": {},
   "outputs": [
    {
     "data": {
      "text/plain": [
       "(array(6.66666667), array(2.22222222))"
      ]
     },
     "execution_count": 25,
     "metadata": {},
     "output_type": "execute_result"
    }
   ],
   "source": [
    "binom.stats(n=10,p=(2/3))"
   ]
  },
  {
   "cell_type": "code",
   "execution_count": null,
   "metadata": {},
   "outputs": [],
   "source": []
  }
 ],
 "metadata": {
  "kernelspec": {
   "display_name": "Python 3",
   "language": "python",
   "name": "python3"
  },
  "language_info": {
   "codemirror_mode": {
    "name": "ipython",
    "version": 3
   },
   "file_extension": ".py",
   "mimetype": "text/x-python",
   "name": "python",
   "nbconvert_exporter": "python",
   "pygments_lexer": "ipython3",
   "version": "3.8.3"
  }
 },
 "nbformat": 4,
 "nbformat_minor": 4
}
