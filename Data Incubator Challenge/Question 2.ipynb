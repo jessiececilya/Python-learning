{
 "cells": [
  {
   "cell_type": "code",
   "execution_count": 2,
   "metadata": {},
   "outputs": [
    {
     "name": "stderr",
     "output_type": "stream",
     "text": [
      "C:\\Users\\jeban\\anaconda3\\lib\\site-packages\\IPython\\core\\interactiveshell.py:3071: DtypeWarning: Columns (8,9,10,15,31,33,36,51) have mixed types.Specify dtype option on import or set low_memory=False.\n",
      "  has_raised = await self.run_ast_nodes(code_ast.body, cell_name,\n"
     ]
    },
    {
     "name": "stdout",
     "output_type": "stream",
     "text": [
      "  BOROUGH      BIN Number            Street      Job #  Job doc. # Job Type  \\\n",
      "0   BRONX  2118801   2960    WEBSTER AVENUE  201088492           4       NB   \n",
      "1   BRONX  2096812    100     DEKRUIF PLACE  200716298           2       A2   \n",
      "2   BRONX  2008604   1898   HARRISON AVENUE  200974650           2       A2   \n",
      "3   BRONX  2007652   1998     MORRIS AVENUE  200278118           2       A1   \n",
      "4   BRONX  2084155    565  WEST  235 STREET  201119173           2       A2   \n",
      "\n",
      "  Self_Cert Block  Lot  ... Owner’s House State  Owner’s House Zip Code  \\\n",
      "0       NaN  3274    4  ...                 NaN                     NaN   \n",
      "1       NaN  5141  120  ...                 NaN                     NaN   \n",
      "2       NaN  2869   87  ...                 NaN                     NaN   \n",
      "3       NaN  2807   15  ...                 NaN                     NaN   \n",
      "4         Y  5794  484  ...                 NaN                     NaN   \n",
      "\n",
      "   Owner's Phone #           DOBRunDate   Latitude  Longitude  \\\n",
      "0              NaN  2016-01-03T00:00:00  40.867490 -73.883225   \n",
      "1              NaN  2016-01-03T00:00:00  40.875769 -73.828899   \n",
      "2              NaN  2016-01-03T00:00:00  40.852603 -73.911461   \n",
      "3              NaN  2016-01-03T00:00:00  40.851661 -73.906937   \n",
      "4              NaN  2016-01-03T00:00:00  40.885720 -73.910270   \n",
      "\n",
      "  Council District Census Tract           BBL  \\\n",
      "0             11.0        425.0  2.032740e+09   \n",
      "1             12.0      46201.0  2.051410e+09   \n",
      "2             14.0        243.0  2.028690e+09   \n",
      "3             14.0        241.0  2.028070e+09   \n",
      "4             11.0        297.0  2.057940e+09   \n",
      "\n",
      "                                                 NTA  \n",
      "0  Norwood                                       ...  \n",
      "1  Co-op City                                    ...  \n",
      "2  University Heights-Morris Heights             ...  \n",
      "3  Mount Hope                                    ...  \n",
      "4  Spuyten Duyvil-Kingsbridge                    ...  \n",
      "\n",
      "[5 rows x 60 columns]\n"
     ]
    }
   ],
   "source": [
    "import pandas as pd\n",
    "d=pd.read_csv('Historical_DOB_Permit_Issuance.csv')\n",
    "print(d.head())"
   ]
  },
  {
   "cell_type": "code",
   "execution_count": 3,
   "metadata": {},
   "outputs": [
    {
     "data": {
      "text/plain": [
       "BOROUGH                             2428526\n",
       "BIN                                 2428526\n",
       "Number                              2428522\n",
       "Street                              2428522\n",
       "Job #                               2428526\n",
       "Job doc. #                          2428526\n",
       "Job Type                            2428526\n",
       "Self_Cert                            900685\n",
       "Block                               2428028\n",
       "Lot                                 2428019\n",
       "Community Board                     2425674\n",
       "Postcode                            2427476\n",
       "Bldg Type                           2374247\n",
       "Residential                          772772\n",
       "Special District 1                   186592\n",
       "Special District 2                     2639\n",
       "Work Type                           1974557\n",
       "Permit Status                       2419621\n",
       "Filing Status                       2428526\n",
       "Permit Type                         2428525\n",
       "Permit Sequence #                   2428526\n",
       "Permit Subtype                      1418233\n",
       "Oil Gas                               31034\n",
       "Site Fill                           2260823\n",
       "Filing Date                         2428526\n",
       "Issuance Date                       2428526\n",
       "Expiration Date                     2428522\n",
       "Job Start Date                      2428523\n",
       "Permittee's First Name              2428455\n",
       "Permittee's Last Name               2428438\n",
       "Permittee's Business Name           2396876\n",
       "Permittee's Phone #                 2428222\n",
       "Permittee's License Type            2173574\n",
       "Permittee's License #               2207328\n",
       "Act as Superintendent               1595226\n",
       "Permittee's Other Title              268182\n",
       "HIC License                           26804\n",
       "Site Safety Mgr's First Name          10237\n",
       "Site Safety Mgr's Last Name           10261\n",
       "Site Safety Mgr Business Name          7861\n",
       "Superintendent First & Last Name    1602999\n",
       "Superintendent Business Name        1602814\n",
       "Owner's Business Type               2267531\n",
       "Non-Profit                           157298\n",
       "Owner's Business Name               1759199\n",
       "Owner's First Name                  2270363\n",
       "Owner's Last Name                   2270674\n",
       "Owner's House #                     2270989\n",
       "Owner's House Street Name           2270839\n",
       "Owner’s House City                  2271356\n",
       "Owner’s House State                 2271393\n",
       "Owner’s House Zip Code              2266428\n",
       "Owner's Phone #                     2226547\n",
       "DOBRunDate                          2428526\n",
       "Latitude                            2419010\n",
       "Longitude                           2419010\n",
       "Council District                    2419010\n",
       "Census Tract                        2419010\n",
       "BBL                                 2398936\n",
       "NTA                                 2419554\n",
       "dtype: int64"
      ]
     },
     "execution_count": 3,
     "metadata": {},
     "output_type": "execute_result"
    }
   ],
   "source": [
    "d.count()"
   ]
  },
  {
   "cell_type": "markdown",
   "metadata": {},
   "source": [
    "# Question 2.1"
   ]
  },
  {
   "cell_type": "code",
   "execution_count": 6,
   "metadata": {},
   "outputs": [
    {
     "data": {
      "text/plain": [
       "Filing Status\n",
       "INITIAL    76.243079\n",
       "RENEWAL    23.756921\n",
       "Name: BIN, dtype: float64"
      ]
     },
     "execution_count": 6,
     "metadata": {},
     "output_type": "execute_result"
    }
   ],
   "source": [
    "g=d.groupby('Filing Status').count()[['BIN']]\n",
    "m= (g['BIN']/g['BIN'].sum())*100\n",
    "m"
   ]
  },
  {
   "cell_type": "markdown",
   "metadata": {},
   "source": [
    "# Question 2.2"
   ]
  },
  {
   "cell_type": "code",
   "execution_count": 7,
   "metadata": {},
   "outputs": [
    {
     "data": {
      "text/plain": [
       "BOROUGH\n",
       "BRONX             8.854548\n",
       "BROOKLYN         21.922104\n",
       "MANHATTAN        41.506823\n",
       "QUEENS           21.329234\n",
       "STATEN ISLAND     6.387290\n",
       "Name: Yes, dtype: float64"
      ]
     },
     "execution_count": 7,
     "metadata": {},
     "output_type": "execute_result"
    }
   ],
   "source": [
    "from datetime import datetime\n",
    "import numpy as np\n",
    "df=pd.DataFrame(d, columns=['BOROUGH','Expiration Date','Issuance Date'])\n",
    "df['Expiration Date']= pd.to_datetime(df['Expiration Date' ])\n",
    "df['Expiration Date'].head()\n",
    "df['Issuance Date']=pd.to_datetime(df['Issuance Date' ])\n",
    "df['Days']=df['Expiration Date']-df['Issuance Date']\n",
    "df['Days'].head()\n",
    "df['Yes'] = np.where(df['Days']>= '365', True, False)\n",
    "#df.head()\n",
    "y=df.groupby('BOROUGH').count()[['Yes']]\n",
    "n= (y['Yes']/y['Yes'].sum())*100\n",
    "n"
   ]
  },
  {
   "cell_type": "markdown",
   "metadata": {},
   "source": [
    "# Question 2.3"
   ]
  },
  {
   "cell_type": "code",
   "execution_count": 9,
   "metadata": {},
   "outputs": [
    {
     "name": "stderr",
     "output_type": "stream",
     "text": [
      "<ipython-input-9-ef364796c9ab>:5: SettingWithCopyWarning: \n",
      "A value is trying to be set on a copy of a slice from a DataFrame.\n",
      "Try using .loc[row_indexer,col_indexer] = value instead\n",
      "\n",
      "See the caveats in the documentation: https://pandas.pydata.org/pandas-docs/stable/user_guide/indexing.html#returning-a-view-versus-a-copy\n",
      "  df2['Year'] = pd.DatetimeIndex(df2['Issuance Date']).year\n",
      "<ipython-input-9-ef364796c9ab>:6: SettingWithCopyWarning: \n",
      "A value is trying to be set on a copy of a slice from a DataFrame.\n",
      "Try using .loc[row_indexer,col_indexer] = value instead\n",
      "\n",
      "See the caveats in the documentation: https://pandas.pydata.org/pandas-docs/stable/user_guide/indexing.html#returning-a-view-versus-a-copy\n",
      "  df2['True'] = np.where(df2['Permit Status']== 'ISSUED', True, False)\n",
      "<ipython-input-9-ef364796c9ab>:8: SettingWithCopyWarning: \n",
      "A value is trying to be set on a copy of a slice from a DataFrame.\n",
      "Try using .loc[row_indexer,col_indexer] = value instead\n",
      "\n",
      "See the caveats in the documentation: https://pandas.pydata.org/pandas-docs/stable/user_guide/indexing.html#returning-a-view-versus-a-copy\n",
      "  dff['Year'] = pd.DatetimeIndex(dff['Issuance Date']).year\n"
     ]
    },
    {
     "name": "stdout",
     "output_type": "stream",
     "text": [
      "                                 OLS Regression Results                                \n",
      "=======================================================================================\n",
      "Dep. Variable:                   Year   R-squared (uncentered):                   0.866\n",
      "Model:                            OLS   Adj. R-squared (uncentered):              0.860\n",
      "Method:                 Least Squares   F-statistic:                              142.0\n",
      "Date:                Fri, 30 Oct 2020   Prob (F-statistic):                    4.54e-11\n",
      "Time:                        15:53:02   Log-Likelihood:                         -184.36\n",
      "No. Observations:                  23   AIC:                                      370.7\n",
      "Df Residuals:                      22   BIC:                                      371.9\n",
      "Df Model:                           1                                                  \n",
      "Covariance Type:            nonrobust                                                  \n",
      "=================================================================================\n",
      "                    coef    std err          t      P>|t|      [0.025      0.975]\n",
      "---------------------------------------------------------------------------------\n",
      "Permit Status     0.0171      0.001     11.917      0.000       0.014       0.020\n",
      "==============================================================================\n",
      "Omnibus:                        5.484   Durbin-Watson:                   0.041\n",
      "Prob(Omnibus):                  0.064   Jarque-Bera (JB):                1.820\n",
      "Skew:                           0.219   Prob(JB):                        0.403\n",
      "Kurtosis:                       1.693   Cond. No.                         1.00\n",
      "==============================================================================\n",
      "\n",
      "Notes:\n",
      "[1] R² is computed without centering (uncentered) since the model does not contain a constant.\n",
      "[2] Standard Errors assume that the covariance matrix of the errors is correctly specified.\n"
     ]
    }
   ],
   "source": [
    "df1=pd.DataFrame(d, columns=['Issuance Date','Permit Status'])\n",
    "df1['Issuance Date']=pd.to_datetime(df1['Issuance Date' ])\n",
    "df2=df1[(df1['Issuance Date'] > '1990-01-01') & (df1['Issuance Date'] < '2012-12-31')]\n",
    "#lm=df2.groupby('Permit Status').count()[['Issuance Date']]\n",
    "df2['Year'] = pd.DatetimeIndex(df2['Issuance Date']).year\n",
    "df2['True'] = np.where(df2['Permit Status']== 'ISSUED', True, False)\n",
    "dff = df2[df2['True'] == True]\n",
    "dff['Year'] = pd.DatetimeIndex(dff['Issuance Date']).year\n",
    "x1 = dff.groupby(['Year'],as_index=False).agg({'Permit Status': 'count'})\n",
    "import statsmodels.api as sm\n",
    "xx= x1.iloc[:,0]\n",
    "yy= x1.iloc[:,1]\n",
    "model = sm.OLS(xx,yy)\n",
    "results = model.fit()\n",
    "print(results.summary())\n"
   ]
  },
  {
   "cell_type": "markdown",
   "metadata": {},
   "source": [
    "# Question 2.4 "
   ]
  },
  {
   "cell_type": "code",
   "execution_count": 12,
   "metadata": {},
   "outputs": [
    {
     "data": {
      "text/plain": [
       "Power_divergenceResult(statistic=array([1629.02677778,  711.53778828]), pvalue=array([0.00000000e+000, 9.26329058e-157]))"
      ]
     },
     "execution_count": 12,
     "metadata": {},
     "output_type": "execute_result"
    }
   ],
   "source": [
    "a1=pd.DataFrame(d, columns=['Issuance Date','Permit Status','Expiration Date', 'Job Start Date'])\n",
    "a1['Issuance Date']=pd.to_datetime(a1['Issuance Date'])\n",
    "a1['Expiration Date']=pd.to_datetime(a1['Expiration Date'])\n",
    "a1['Job Start Date'] = pd.to_datetime(a1['Job Start Date'], errors='coerce')\n",
    "a1= a1.dropna(subset=['Job Start Date'])\n",
    "a1['Days']=a1['Expiration Date']-a1['Issuance Date']\n",
    "a1['Month'] = pd.DatetimeIndex(a1['Job Start Date']).month\n",
    "a1['Mmonth']= np.where(a1['Month']== 11, \"November\", \"Others\")\n",
    "a1['Issued'] = np.where(a1['Permit Status']== 'ISSUED', \"Issued\", \"Not Issued\")\n",
    "a1['More60'] = np.where(a1['Days']<= \"60 Days\", \"Less\", \"More\")\n",
    "xz =a1.groupby(['Mmonth','More60'],as_index=False).agg({'Permit Status': 'count'})\n",
    "zz = xz.pivot_table('Permit Status', ['Mmonth'], 'More60')\n",
    "#Average for 11 months\n",
    "zz.iloc[1,:]=zz.iloc[1,:]/11\n",
    "from scipy.stats import chisquare\n",
    "res= chisquare(zz)\n",
    "res"
   ]
  },
  {
   "cell_type": "code",
   "execution_count": 13,
   "metadata": {},
   "outputs": [
    {
     "data": {
      "text/html": [
       "<div>\n",
       "<style scoped>\n",
       "    .dataframe tbody tr th:only-of-type {\n",
       "        vertical-align: middle;\n",
       "    }\n",
       "\n",
       "    .dataframe tbody tr th {\n",
       "        vertical-align: top;\n",
       "    }\n",
       "\n",
       "    .dataframe thead th {\n",
       "        text-align: right;\n",
       "    }\n",
       "</style>\n",
       "<table border=\"1\" class=\"dataframe\">\n",
       "  <thead>\n",
       "    <tr style=\"text-align: right;\">\n",
       "      <th>More60</th>\n",
       "      <th>Less</th>\n",
       "      <th>More</th>\n",
       "    </tr>\n",
       "    <tr>\n",
       "      <th>Mmonth</th>\n",
       "      <th></th>\n",
       "      <th></th>\n",
       "    </tr>\n",
       "  </thead>\n",
       "  <tbody>\n",
       "    <tr>\n",
       "      <th>November</th>\n",
       "      <td>21829.0</td>\n",
       "      <td>172146.000000</td>\n",
       "    </tr>\n",
       "    <tr>\n",
       "      <th>Others</th>\n",
       "      <td>14171.0</td>\n",
       "      <td>188157.545455</td>\n",
       "    </tr>\n",
       "  </tbody>\n",
       "</table>\n",
       "</div>"
      ],
      "text/plain": [
       "More60       Less           More\n",
       "Mmonth                          \n",
       "November  21829.0  172146.000000\n",
       "Others    14171.0  188157.545455"
      ]
     },
     "execution_count": 13,
     "metadata": {},
     "output_type": "execute_result"
    }
   ],
   "source": [
    "zz"
   ]
  },
  {
   "cell_type": "markdown",
   "metadata": {},
   "source": [
    "# Question 2.4"
   ]
  },
  {
   "cell_type": "code",
   "execution_count": 14,
   "metadata": {},
   "outputs": [
    {
     "name": "stderr",
     "output_type": "stream",
     "text": [
      "C:\\Users\\jeban\\anaconda3\\lib\\site-packages\\pandas\\core\\frame.py:3990: SettingWithCopyWarning: \n",
      "A value is trying to be set on a copy of a slice from a DataFrame\n",
      "\n",
      "See the caveats in the documentation: https://pandas.pydata.org/pandas-docs/stable/user_guide/indexing.html#returning-a-view-versus-a-copy\n",
      "  return super().drop(\n"
     ]
    },
    {
     "data": {
      "text/plain": [
       "1.0805818771914573"
      ]
     },
     "execution_count": 14,
     "metadata": {},
     "output_type": "execute_result"
    }
   ],
   "source": [
    "a3=pd.DataFrame(d, columns=['Filing Status','Owner\\'s Business Type'])\n",
    "a3['Renewed'] = np.where(a3['Filing Status']== 'RENEWAL', \"Renewed\", \"Others\")\n",
    "a4= a3.dropna(subset=['Owner\\'s Business Type'])\n",
    "indexNames = a4[~(a4['Renewed'] == 'Renewed')].index \n",
    "# Delete these row indexes from dataFrame\n",
    "a4.drop(indexNames , inplace=True)\n",
    "zzz=a4.groupby(['Owner\\'s Business Type'],as_index=False).agg({'Renewed': 'count'})\n",
    "Ratio= (zzz.iloc[1,1]/zzz.iloc[6,1])\n",
    "Ratio"
   ]
  },
  {
   "cell_type": "markdown",
   "metadata": {},
   "source": [
    "# Question 2.5"
   ]
  },
  {
   "cell_type": "code",
   "execution_count": 28,
   "metadata": {},
   "outputs": [],
   "source": [
    "a6= pd.DataFrame(d, columns=['Issuance Date','Permit Status','Postcode'])\n",
    "a6['Year'] = pd.DatetimeIndex(a6['Issuance Date']).year\n",
    "indexNames = a6[~(a6['Permit Status'] == 'ISSUED')].index \n",
    "# Delete these row indexes from dataFrame\n",
    "a6.drop(indexNames , inplace=True)\n",
    "indexNames = a6[~(a6['Year'] == 2010)].index \n",
    "# Delete these row indexes from dataFrame\n",
    "a6.drop(indexNames , inplace=True)\n",
    "a7=a6.groupby(['Postcode'],as_index=False).agg({'Permit Status': 'count'})\n",
    "a8=pd.read_csv(\"2010+Census+Population+By+Zipcode+(ZCTA).csv\")\n",
    "a8=a8.rename(columns={\"Zip Code ZCTA\": \"Postcode\"}, errors=\"raise\")\n",
    "inner_join = pd.merge(a7,  \n",
    "                      a8,  \n",
    "                      on ='Postcode',  \n",
    "                      how ='inner') \n",
    "a9=inner_join\n",
    "\n",
    "indexNames = a9[(a9['2010 Census Population'] <= 1000)].index \n",
    "# Delete these row indexes from dataFrame\n",
    "a9.drop(indexNames , inplace=True)\n",
    "a9['Ratio']=a9['Permit Status']/ a9['2010 Census Population']\n",
    "a9['Std']= 2* np.std(a9['Ratio'])\n",
    "a9['Mean']=np.mean(a9['Ratio'])\n",
    "a9['Diff']= a9['Ratio']- a9['Mean']\n",
    "a9['True']=a9['Diff'] >= a9['Std']"
   ]
  },
  {
   "cell_type": "code",
   "execution_count": 29,
   "metadata": {},
   "outputs": [
    {
     "data": {
      "text/html": [
       "<div>\n",
       "<style scoped>\n",
       "    .dataframe tbody tr th:only-of-type {\n",
       "        vertical-align: middle;\n",
       "    }\n",
       "\n",
       "    .dataframe tbody tr th {\n",
       "        vertical-align: top;\n",
       "    }\n",
       "\n",
       "    .dataframe thead th {\n",
       "        text-align: right;\n",
       "    }\n",
       "</style>\n",
       "<table border=\"1\" class=\"dataframe\">\n",
       "  <thead>\n",
       "    <tr style=\"text-align: right;\">\n",
       "      <th></th>\n",
       "      <th>True</th>\n",
       "      <th>Postcode</th>\n",
       "      <th>Permit Status</th>\n",
       "      <th>2010 Census Population</th>\n",
       "      <th>Ratio</th>\n",
       "      <th>Std</th>\n",
       "      <th>Mean</th>\n",
       "      <th>Diff</th>\n",
       "    </tr>\n",
       "  </thead>\n",
       "  <tbody>\n",
       "    <tr>\n",
       "      <th>0</th>\n",
       "      <td>False</td>\n",
       "      <td>172</td>\n",
       "      <td>172</td>\n",
       "      <td>172</td>\n",
       "      <td>172</td>\n",
       "      <td>172</td>\n",
       "      <td>172</td>\n",
       "      <td>172</td>\n",
       "    </tr>\n",
       "    <tr>\n",
       "      <th>1</th>\n",
       "      <td>True</td>\n",
       "      <td>9</td>\n",
       "      <td>9</td>\n",
       "      <td>9</td>\n",
       "      <td>9</td>\n",
       "      <td>9</td>\n",
       "      <td>9</td>\n",
       "      <td>9</td>\n",
       "    </tr>\n",
       "  </tbody>\n",
       "</table>\n",
       "</div>"
      ],
      "text/plain": [
       "    True  Postcode  Permit Status  2010 Census Population  Ratio  Std  Mean  \\\n",
       "0  False       172            172                     172    172  172   172   \n",
       "1   True         9              9                       9      9    9     9   \n",
       "\n",
       "   Diff  \n",
       "0   172  \n",
       "1     9  "
      ]
     },
     "execution_count": 29,
     "metadata": {},
     "output_type": "execute_result"
    }
   ],
   "source": [
    "a9.groupby(['True'],as_index=False).count()\n"
   ]
  },
  {
   "cell_type": "markdown",
   "metadata": {},
   "source": [
    "# Question 2.6"
   ]
  },
  {
   "cell_type": "code",
   "execution_count": 30,
   "metadata": {},
   "outputs": [
    {
     "name": "stderr",
     "output_type": "stream",
     "text": [
      "C:\\Users\\jeban\\anaconda3\\lib\\site-packages\\pandas\\core\\frame.py:3990: SettingWithCopyWarning: \n",
      "A value is trying to be set on a copy of a slice from a DataFrame\n",
      "\n",
      "See the caveats in the documentation: https://pandas.pydata.org/pandas-docs/stable/user_guide/indexing.html#returning-a-view-versus-a-copy\n",
      "  return super().drop(\n"
     ]
    },
    {
     "data": {
      "text/plain": [
       "3.8049555273189326"
      ]
     },
     "execution_count": 30,
     "metadata": {},
     "output_type": "execute_result"
    }
   ],
   "source": [
    "b1=pd.DataFrame(d, columns=['Issuance Date','Job Start Date'])\n",
    "\n",
    "b1['Job Start Date'] = pd.to_datetime(b1['Job Start Date'], errors='coerce')\n",
    "b1['Year'] = pd.DatetimeIndex(b1['Job Start Date']).year\n",
    "b1['Month'] = pd.DatetimeIndex(b1['Job Start Date']).month\n",
    "b2= pd.read_excel('season.xlsx')\n",
    "inner_join = pd.merge(b1,  \n",
    "                      b2,  \n",
    "                      on ='Month',  \n",
    "                      how ='inner') \n",
    "b3=inner_join\n",
    "\n",
    "b3=b3[(b3['Job Start Date'] > '1990-01-01') & (b3['Job Start Date'] < '2012-12-31')]\n",
    "indexNames = b3[(b3['Season'] == 'Others')].index \n",
    "# Delete these row indexes from dataFrame\n",
    "b3.drop(indexNames , inplace=True)\n",
    "\n",
    "b4=b3.groupby(['Year', 'Season'],as_index=False).agg({'Job Start Date': 'count'})\n",
    "b5= b4.set_index(['Year', 'Season']).unstack()\n",
    "b5['Ratio']= (b5.iloc[:,0] /b5.iloc[:,1]).astype(float)\n",
    "max(b5['Ratio'])\n"
   ]
  },
  {
   "cell_type": "code",
   "execution_count": null,
   "metadata": {},
   "outputs": [],
   "source": []
  }
 ],
 "metadata": {
  "kernelspec": {
   "display_name": "Python 3",
   "language": "python",
   "name": "python3"
  },
  "language_info": {
   "codemirror_mode": {
    "name": "ipython",
    "version": 3
   },
   "file_extension": ".py",
   "mimetype": "text/x-python",
   "name": "python",
   "nbconvert_exporter": "python",
   "pygments_lexer": "ipython3",
   "version": "3.8.3"
  }
 },
 "nbformat": 4,
 "nbformat_minor": 4
}
