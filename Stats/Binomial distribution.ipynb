{
 "cells": [
  {
   "cell_type": "code",
   "execution_count": 2,
   "metadata": {},
   "outputs": [
    {
     "name": "stdout",
     "output_type": "stream",
     "text": [
      "[15 19 11 15 15 16 15 16 16 18 14 15 17 13 16 19 12 16 16 14 17 16 17 16\n",
      " 16 16 16 15 16 19 12 12 17 18 13 17 14 20 16 18 13 16 19 15 17 17 17 17\n",
      " 17 18 17 17 14 13 16 15 17 15 19 18 17 15 16 15 14 18 16 16 15 18 15 15\n",
      " 14 16 14 12 18 15 15 18 18 16 14 17 20 17 14 15 16 18 16 18 17 17 17 15\n",
      " 14 19 18 14]\n"
     ]
    },
    {
     "data": {
      "image/png": "[encoded data removed]",
      "text/plain": [
       "<Figure size 432x288 with 1 Axes>"
      ]
     },
     "metadata": {
      "needs_background": "light"
     },
     "output_type": "display_data"
    }
   ],
   "source": [
    "#It gives number of success and failure\n",
    "#The four requirements are:\n",
    "##each observation falls into one of two categories called a success or failure.\n",
    "##there is a fixed number of observations.\n",
    "##the observations are all independent.\n",
    "##the probability of success (p) for each observation is the same - equally likely.\n",
    "\n",
    "import seaborn as sb, numpy as np\n",
    "import matplotlib.pyplot as plt\n",
    "from scipy.stats import binom\n",
    "#data_binom =binom.rvs(size=10,n=20,p=0.8)\n",
    "data_binom = binom.rvs(n=20,p=0.8,loc=0,size=100)\n",
    "print(data_binom)\n",
    "ax = sb.distplot(data_binom,kde=True,color='blue',hist_kws={\"linewidth\": 25,'alpha':1})\n",
    "ax.set(xlabel='Binomial', ylabel='Frequency')\n",
    "plt.show()"
   ]
  },
  {
   "cell_type": "code",
   "execution_count": null,
   "metadata": {},
   "outputs": [],
   "source": []
  }
 ],
 "metadata": {
  "kernelspec": {
   "display_name": "Python 3",
   "language": "python",
   "name": "python3"
  },
  "language_info": {
   "codemirror_mode": {
    "name": "ipython",
    "version": 3
   },
   "file_extension": ".py",
   "mimetype": "text/x-python",
   "name": "python",
   "nbconvert_exporter": "python",
   "pygments_lexer": "ipython3",
   "version": "3.8.3"
  }
 },
 "nbformat": 4,
 "nbformat_minor": 4
}
